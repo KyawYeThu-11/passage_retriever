{
  "cells": [
    {
      "cell_type": "markdown",
      "source": [
        "# 1. Environmental Setup"
      ],
      "metadata": {
        "id": "jxVta_XK_QVf"
      }
    },
    {
      "cell_type": "code",
      "source": [
        "!pip install rank_bm25"
      ],
      "metadata": {
        "id": "i3it5JKaF5cx",
        "colab": {
          "base_uri": "https://localhost:8080/"
        },
        "outputId": "3707d8c0-34c7-4c35-dae5-8dd5b3e712e9"
      },
      "execution_count": null,
      "outputs": [
        {
          "output_type": "stream",
          "name": "stdout",
          "text": [
            "Requirement already satisfied: rank_bm25 in /usr/local/lib/python3.10/dist-packages (0.2.2)\n",
            "Requirement already satisfied: numpy in /usr/local/lib/python3.10/dist-packages (from rank_bm25) (1.23.5)\n"
          ]
        }
      ]
    },
    {
      "cell_type": "code",
      "source": [
        "import os\n",
        "from pathlib import Path\n",
        "import json\n",
        "import csv\n",
        "import pandas as pd\n",
        "import numpy as np\n",
        "from rank_bm25 import BM25Okapi\n",
        "import nltk\n",
        "from nltk.tokenize import word_tokenize\n",
        "import torch\n",
        "from tqdm import tqdm\n",
        "\n",
        "\n",
        "nltk.download('punkt')\n",
        "\n",
        "dataset_dir = Path('squad')\n",
        "if not dataset_dir.is_dir():\n",
        "  !mkdir squad\n",
        "  !wget https://rajpurkar.github.io/SQuAD-explorer/dataset/train-v1.1.json -O squad/train-v1.1.json\n",
        "  !wget https://rajpurkar.github.io/SQuAD-explorer/dataset/dev-v1.1.json -O squad/dev-v1.1.json\n",
        "\n",
        "device = 'cuda' if torch.cuda.is_available() else 'cpu'"
      ],
      "metadata": {
        "id": "Fia0SfTuF335",
        "colab": {
          "base_uri": "https://localhost:8080/"
        },
        "outputId": "caacb637-70f0-4fbb-ab9f-a84014e63fb6"
      },
      "execution_count": null,
      "outputs": [
        {
          "output_type": "stream",
          "name": "stderr",
          "text": [
            "[nltk_data] Downloading package punkt to /root/nltk_data...\n",
            "[nltk_data]   Unzipping tokenizers/punkt.zip.\n"
          ]
        },
        {
          "output_type": "stream",
          "name": "stdout",
          "text": [
            "--2023-12-02 06:33:10--  https://rajpurkar.github.io/SQuAD-explorer/dataset/train-v1.1.json\n",
            "Resolving rajpurkar.github.io (rajpurkar.github.io)... 185.199.108.153, 185.199.109.153, 185.199.110.153, ...\n",
            "Connecting to rajpurkar.github.io (rajpurkar.github.io)|185.199.108.153|:443... connected.\n",
            "HTTP request sent, awaiting response... 200 OK\n",
            "Length: 30288272 (29M) [application/json]\n",
            "Saving to: ‘squad/train-v1.1.json’\n",
            "\n",
            "squad/train-v1.1.js 100%[===================>]  28.88M   161MB/s    in 0.2s    \n",
            "\n",
            "2023-12-02 06:33:11 (161 MB/s) - ‘squad/train-v1.1.json’ saved [30288272/30288272]\n",
            "\n",
            "--2023-12-02 06:33:11--  https://rajpurkar.github.io/SQuAD-explorer/dataset/dev-v1.1.json\n",
            "Resolving rajpurkar.github.io (rajpurkar.github.io)... 185.199.108.153, 185.199.109.153, 185.199.110.153, ...\n",
            "Connecting to rajpurkar.github.io (rajpurkar.github.io)|185.199.108.153|:443... connected.\n",
            "HTTP request sent, awaiting response... 200 OK\n",
            "Length: 4854279 (4.6M) [application/json]\n",
            "Saving to: ‘squad/dev-v1.1.json’\n",
            "\n",
            "squad/dev-v1.1.json 100%[===================>]   4.63M  --.-KB/s    in 0.05s   \n",
            "\n",
            "2023-12-02 06:33:12 (88.1 MB/s) - ‘squad/dev-v1.1.json’ saved [4854279/4854279]\n",
            "\n"
          ]
        }
      ]
    },
    {
      "cell_type": "code",
      "source": [
        "from google.colab import drive\n",
        "drive.mount('/gdrive')\n",
        "\n",
        "root = '/gdrive/MyDrive/Project 2/retrieve-rerank'"
      ],
      "metadata": {
        "colab": {
          "base_uri": "https://localhost:8080/"
        },
        "id": "D5lZ2ymw5i6I",
        "outputId": "5b4209bb-6487-466b-c1f6-12f98e76b9e0"
      },
      "execution_count": null,
      "outputs": [
        {
          "output_type": "stream",
          "name": "stdout",
          "text": [
            "Mounted at /gdrive\n"
          ]
        }
      ]
    },
    {
      "cell_type": "markdown",
      "source": [
        "# 2. Data Processing"
      ],
      "metadata": {
        "id": "d-1ghc2L-9Ty"
      }
    },
    {
      "cell_type": "code",
      "source": [
        "def convert(inputfile, outputfile):\n",
        "    with open(inputfile, 'r') as json_file:\n",
        "        json_object = json.load(json_file)\n",
        "    header = ['id', 'question','title', 'context_id', 'context']\n",
        "    with open(outputfile, 'w', encoding=\"utf-8\", newline='') as file:\n",
        "        writer = csv.writer(file)\n",
        "        writer.writerow(header)\n",
        "\n",
        "        context_id = 0\n",
        "        contexts = list()\n",
        "\n",
        "        contexts.append(json_object['data'][0]['paragraphs'][0]['context'])\n",
        "\n",
        "        for i in range (len(json_object['data'])):\n",
        "            for j in range(len(json_object['data'][i]['paragraphs'])):\n",
        "                for k in range(len(json_object['data'][i]['paragraphs'][j]['qas'])):\n",
        "                    row = []\n",
        "                    row.append(json_object['data'][i]['paragraphs'][j]['qas'][k]['id'])\n",
        "                    row.append(json_object['data'][i]['paragraphs'][j]['qas'][k]['question'])\n",
        "                    row.append(json_object['data'][i]['title'])\n",
        "\n",
        "                    current_context = json_object['data'][i]['paragraphs'][j]['context']\n",
        "\n",
        "                    if contexts[-1] != current_context:\n",
        "                      context_id += 1\n",
        "                      contexts.append(current_context)\n",
        "\n",
        "                    row.append(context_id)\n",
        "                    row.append(current_context)\n",
        "\n",
        "                    if (len(row) != 0):\n",
        "                        writer.writerow(row)\n",
        "    return contexts\n",
        "\n",
        "train_contexts = convert(f'{dataset_dir}/train-v1.1.json', f'{dataset_dir}/train.csv')\n",
        "dev_contexts = convert(f'{dataset_dir}/dev-v1.1.json', f'{dataset_dir}/dev.csv')\n",
        "\n",
        "train_df = pd.read_csv(f'{dataset_dir}/train.csv')\n",
        "dev_df = pd.read_csv(f'{dataset_dir}/dev.csv')"
      ],
      "metadata": {
        "id": "9rHXlgYwQOzO"
      },
      "execution_count": null,
      "outputs": []
    },
    {
      "cell_type": "markdown",
      "source": [
        "# 3. Applying BM25 on SQuAD"
      ],
      "metadata": {
        "id": "hrmu73eW_cWC"
      }
    },
    {
      "cell_type": "markdown",
      "source": [
        "Create a dataframe of unique contexts and initiate a bm25 object that is based on tokenized contexts."
      ],
      "metadata": {
        "id": "r0m2ziq2_4in"
      }
    },
    {
      "cell_type": "code",
      "source": [
        "# context_df = train_df[\"context\"].drop_duplicates()\n",
        "# context_df = dev_df[\"context\"].drop_duplicates()\n",
        "# contexts = context_df.values.tolist()\n",
        "\n",
        "tokenized_corpus = [word_tokenize(doc) for doc in train_contexts]\n",
        "bm25 = BM25Okapi(tokenized_corpus)"
      ],
      "metadata": {
        "id": "ueGGajL1TFWC"
      },
      "execution_count": null,
      "outputs": []
    },
    {
      "cell_type": "markdown",
      "source": [
        "Find the top-k retrieval accuracy using the dev set."
      ],
      "metadata": {
        "id": "efVzlNmAAJUI"
      }
    },
    {
      "cell_type": "code",
      "source": [
        "def find_topk_acc(df, k):\n",
        "  \"\"\"\n",
        "    Inputs: dataframe, k\n",
        "    Outputs: top-k accuracy\n",
        "  \"\"\"\n",
        "  success_num = 0\n",
        "  for row_id in tqdm(df.index, mininterval = 3, desc =\"Evaluating...\"):\n",
        "    query = df[\"question\"][row_id]\n",
        "    gold_context_id = df[\"context_id\"][row_id]\n",
        "\n",
        "    tokenized_query = word_tokenize(query)\n",
        "    # Get relevance score for each context\n",
        "    context_scores = torch.tensor(bm25.get_scores(tokenized_query))\n",
        "    # Get the context id of top ten context\n",
        "    _, top_context_id = torch.topk(context_scores, k=k)\n",
        "\n",
        "    if gold_context_id in top_context_id:\n",
        "      success_num += 1\n",
        "  topk_acc = (success_num/len(df)) * 100\n",
        "\n",
        "  print(f\"Successful retrievals: {success_num}/{len(df)}\")\n",
        "  return topk_acc\n",
        "\n",
        "print(f'Top-k retrieval accuracy of BM25 with k=5: {find_topk_acc(dev_df, 5)}')\n",
        "print(f'Top-k retrieval accuracy of BM25 with k=20: {find_topk_acc(dev_df, 20)}')\n"
      ],
      "metadata": {
        "id": "OBKg_-PvXQui",
        "outputId": "47bdafb9-8173-45d3-f071-80168a4d5047",
        "colab": {
          "base_uri": "https://localhost:8080/"
        }
      },
      "execution_count": null,
      "outputs": [
        {
          "output_type": "stream",
          "name": "stderr",
          "text": [
            "Evaluating...: 100%|██████████| 10570/10570 [01:58<00:00, 89.35it/s]\n"
          ]
        },
        {
          "output_type": "stream",
          "name": "stdout",
          "text": [
            "Successful retrievals: 9192/10570\n",
            "Top-k retrieval accuracy of BM25 with k=5: 86.96310312204352\n"
          ]
        },
        {
          "output_type": "stream",
          "name": "stderr",
          "text": [
            "Evaluating...: 100%|██████████| 10570/10570 [01:55<00:00, 91.37it/s]"
          ]
        },
        {
          "output_type": "stream",
          "name": "stdout",
          "text": [
            "Successful retrievals: 9946/10570\n",
            "Top-k retrieval accuracy of BM25 with k=20: 94.0964995269631\n"
          ]
        },
        {
          "output_type": "stream",
          "name": "stderr",
          "text": [
            "\n"
          ]
        }
      ]
    },
    {
      "cell_type": "markdown",
      "source": [
        "Create another dataset with `qid, gold_id, neg_id, gold_score, neg_score` rows."
      ],
      "metadata": {
        "id": "QG6wnh-huWS1"
      }
    },
    {
      "cell_type": "code",
      "source": [
        "def create_new_dataset(df, outputfile):\n",
        "  \"\"\"\n",
        "    Inputs: dataframe, output file name\n",
        "    This function is to create a dataset\n",
        "  \"\"\"\n",
        "  header = ['qid', 'pos_id', 'neg_id', 'pos_score', 'neg_score']\n",
        "\n",
        "  with open(outputfile, 'w', encoding=\"utf-8\", newline='') as file:\n",
        "    writer = csv.writer(file)\n",
        "    writer.writerow(header)\n",
        "\n",
        "    for row_id in tqdm(df.index, mininterval = 3, desc =\"Evaluating...\"):\n",
        "      query = df[\"question\"][row_id]\n",
        "      gold_context_id = df[\"context_id\"][row_id]\n",
        "      row = []\n",
        "\n",
        "      tokenized_query = word_tokenize(query)\n",
        "      # Get relevance score for each context\n",
        "      context_scores = torch.tensor(bm25.get_scores(tokenized_query))\n",
        "      # Get the context id of top ten context\n",
        "      _, top_context_id = torch.topk(context_scores, k=5)\n",
        "\n",
        "      # Get 'hard negative': The negative should look really similar to the positive passage, but it should not be relevant to the query.\n",
        "      # neg_id = top_context_id[-1].item() if gold_context_id != top_context_id[-1] else top_context_id[-2].item()\n",
        "\n",
        "      for i, id in enumerate(top_context_id):\n",
        "        if id == gold_context_id:\n",
        "          # Choose the neg_id to be the one after the golden context if it is not the last\n",
        "          if i != len(top_context_id)-1: neg_id = top_context_id[i+1].item()\n",
        "\n",
        "          # Choose the neg_id to be the one before the golden context if it is the last\n",
        "          else: neg_id = top_context_id[i-1].item()\n",
        "\n",
        "        if neg_id is None: neg_id = top_context_id[-1].item()\n",
        "\n",
        "\n",
        "      gold_score = context_scores[gold_context_id].item()\n",
        "      neg_score = context_scores[neg_id].item()\n",
        "\n",
        "      writer.writerow([row_id, gold_context_id, neg_id, gold_score, neg_score])"
      ],
      "metadata": {
        "id": "iWxjNX6lu6D8"
      },
      "execution_count": null,
      "outputs": []
    },
    {
      "cell_type": "code",
      "source": [
        "## *** The function need to be rewritten to account for creating the following two datasets.\n",
        "# create_new_dataset(train_df, f'{root}/train_qidpidtriples.csv')\n",
        "# create_new_dataset(dev_df, f'{root}/dev_qidpidtriples.csv')\n",
        "\n",
        "create_new_dataset(train_df, f'{root}/trainset_bm25score.csv')\n",
        "# create_new_dataset(dev_df, f'{root}/devset_bm25score.csv')"
      ],
      "metadata": {
        "colab": {
          "base_uri": "https://localhost:8080/"
        },
        "id": "gvw44VTUyIXt",
        "outputId": "b2b1e15e-ce8e-405c-a1ca-78a855dd426b"
      },
      "execution_count": null,
      "outputs": [
        {
          "output_type": "stream",
          "name": "stderr",
          "text": [
            "Evaluating...: 100%|█████████▉| 87555/87599 [1:50:11<00:03, 13.75it/s]"
          ]
        }
      ]
    },
    {
      "cell_type": "markdown",
      "source": [
        "[Optional] Run the following code to see how well BM25 does given a query and `k` value."
      ],
      "metadata": {
        "id": "-JUIAtrjASV3"
      }
    },
    {
      "cell_type": "code",
      "source": [
        "def retrieve_context(query, k):\n",
        "  tokenized_query = word_tokenize(query)\n",
        "\n",
        "  context_scores = torch.tensor(bm25.get_scores(tokenized_query))\n",
        "\n",
        "  top_scores, top_context_id = torch.topk(context_scores, k=k)\n",
        "\n",
        "  topk_context = bm25.get_top_n(tokenized_query, train_contexts, n=k)\n",
        "\n",
        "  print(f'scores {top_scores.tolist()}')\n",
        "\n",
        "  return top_context_id, topk_context\n",
        "\n",
        "query = train_df[\"question\"][2]\n",
        "golden_context_id = train_df[\"context_id\"][2]\n",
        "top_context_id, topk_context = retrieve_context(query, 20)\n",
        "\n",
        "print(f\"Query: {query}\")\n",
        "print(f\"Golden context id: {golden_context_id}\")\n",
        "print(f\"Top-k context id: {top_context_id}\")\n",
        "print(f\"Top-k context:\")\n",
        "\n",
        "for id, context in enumerate(topk_context):\n",
        "  print(f'{id}. {context}')"
      ],
      "metadata": {
        "id": "aCZlSx5sle54",
        "outputId": "d76e768c-87fb-4996-a077-03dff3f325c1",
        "colab": {
          "base_uri": "https://localhost:8080/"
        }
      },
      "execution_count": null,
      "outputs": [
        {
          "output_type": "stream",
          "name": "stdout",
          "text": [
            "scores [42.95682587765693, 36.78653003146273, 36.24635265423394, 34.970439667867275, 34.47066230049125, 34.4376577115112, 34.09289941867836, 33.9207635887153, 33.824768193267175, 33.74218653127046, 32.83243883810128, 32.732157104570014, 32.32543634463234, 32.04143470016326, 31.394329920331778, 31.370335423218275, 31.149947097604645, 31.062438959243575, 30.293788552416146, 30.080866952815366]\n",
            "Query: The Basilica of the Sacred heart at Notre Dame is beside to which structure?\n",
            "Golden context id: 0\n",
            "Top-k context id: tensor([38, 52, 47,  6,  9, 46, 50,  8, 23, 19, 21, 22, 31, 49, 48, 14,  7, 39,\n",
            "        15, 28])\n",
            "Top-k context:\n",
            "0. The University of Notre Dame du Lac (or simply Notre Dame /ˌnoʊtərˈdeɪm/ NOH-tər-DAYM) is a Catholic research university located adjacent to South Bend, Indiana, in the United States. In French, Notre Dame du Lac means \"Our Lady of the Lake\" and refers to the university's patron saint, the Virgin Mary. The main campus covers 1,250 acres in a suburban setting and it contains a number of recognizable landmarks, such as the Golden Dome, the \"Word of Life\" mural (commonly known as Touchdown Jesus), and the Basilica.\n",
            "1. The \"Notre Dame Victory March\" is the fight song for the University of Notre Dame. It was written by two brothers who were Notre Dame graduates. The Rev. Michael J. Shea, a 1904 graduate, wrote the music, and his brother, John F. Shea, who earned degrees in 1906 and 1908, wrote the original lyrics. The lyrics were revised in the 1920s; it first appeared under the copyright of the University of Notre Dame in 1928. The chorus is, \"Cheer cheer for old Notre Dame, wake up the echos cheering her name. Send a volley cheer on high, shake down the thunder from the sky! What though the odds be great or small, old Notre Dame will win over all. While her loyal sons are marching, onward to victory!\"\n",
            "2. On July 1, 2014, the University of Notre Dame and Under Armour reached an agreement in which Under Armour will provide uniforms, apparel,equipment, and monetary compensation to Notre Dame for 10 years. This contract, worth almost $100 million, is the most lucrative in the history of the NCAA. The university marching band plays at home games for most of the sports. The band, which began in 1846 and has a claim as the oldest university band in continuous existence in the United States, was honored by the National Music Council as a \"Landmark of American Music\" during the United States Bicentennial. The band regularly plays the school's fight song the Notre Dame Victory March, which was named as the most played and most famous fight song by Northern Illinois Professor William Studwell. According to College Fight Songs: An Annotated Anthology published in 1998, the \"Notre Dame Victory March\" ranks as the greatest fight song of all time.\n",
            "3. The Joan B. Kroc Institute for International Peace Studies at the University of Notre Dame is dedicated to research, education and outreach on the causes of violent conflict and the conditions for sustainable peace. It offers PhD, Master's, and undergraduate degrees in peace studies. It was founded in 1986 through the donations of Joan B. Kroc, the widow of McDonald's owner Ray Kroc. The institute was inspired by the vision of the Rev. Theodore M. Hesburgh CSC, President Emeritus of the University of Notre Dame. The institute has contributed to international policy discussions about peace building practices.\n",
            "4. In 2015-2016, Notre Dame ranked 18th overall among \"national universities\" in the United States in U.S. News & World Report's Best Colleges 2016. In 2014, USA Today ranked Notre Dame 10th overall for American universities based on data from College Factual. Forbes.com's America's Best Colleges ranks Notre Dame 13th among colleges in the United States in 2015, 8th among Research Universities, and 1st in the Midwest. U.S. News & World Report also lists Notre Dame Law School as 22nd overall. BusinessWeek ranks Mendoza College of Business undergraduate school as 1st overall. It ranks the MBA program as 20th overall. The Philosophical Gourmet Report ranks Notre Dame's graduate philosophy program as 15th nationally, while ARCHITECT Magazine ranked the undergraduate architecture program as 12th nationally. Additionally, the study abroad program ranks sixth in highest participation percentage in the nation, with 57.6% of students choosing to study abroad in 17 countries. According to payscale.com, undergraduate alumni of University of Notre Dame have a mid-career median salary $110,000, making it the 24th highest among colleges and universities in the United States. The median starting salary of $55,300 ranked 58th in the same peer group.\n",
            "5. Notre Dame's conference affiliations for all of its sports except football and fencing changed in July 2013 as a result of major conference realignment, and its fencing affiliation will change in July 2014. The Irish left the Big East for the ACC during a prolonged period of instability in the Big East; while they maintain their football independence, they have committed to play five games per season against ACC opponents. In ice hockey, the Irish were forced to find a new conference home after the Big Ten Conference's decision to add the sport in 2013–14 led to a cascade of conference moves that culminated in the dissolution of the school's former hockey home, the Central Collegiate Hockey Association, after the 2012–13 season. Notre Dame moved its hockey team to Hockey East. After Notre Dame joined the ACC, the conference announced it would add fencing as a sponsored sport beginning in the 2014–15 school year. There are many theories behind the adoption of the athletics moniker but it is known that the Fighting Irish name was used in the early 1920s with respect to the football team and was popularized by alumnus Francis Wallace in his New York Daily News columns. The official colors of Notre Dame are Navy Blue and Gold Rush which are worn in competition by its athletic teams. In addition, the color green is often worn because of the Fighting Irish nickname. The Notre Dame Leprechaun is the mascot of the athletic teams. Created by Theodore W. Drake in 1964, the leprechaun was first used on the football pocket schedule and later on the football program covers. The leprechaun was featured on the cover of Time in November 1964 and gained national exposure.\n",
            "6. Football gameday traditions During home games, activities occur all around campus and different dorms decorate their halls with a traditional item (e.g. Zahm House's two-story banner). Traditional activities begin at the stroke of midnight with the Drummers' Circle. This tradition involves the drum line of the Band of the Fighting Irish and ushers in the rest of the festivities that will continue the rest of the gameday Saturday. Later that day, the trumpet section will play the Notre Dame Victory March and the Notre Dame Alma Mater under the dome. The band entire will play a concert at the steps of Bond Hall, from where they will march into Notre Dame Stadium, leading fans and students alike across campus to the game.\n",
            "7. Notre Dame is known for its competitive admissions, with the incoming class enrolling in fall 2015 admitting 3,577 from a pool of 18,156 (19.7%). The academic profile of the enrolled class continues to rate among the top 10 to 15 in the nation for national research universities. The university practices a non-restrictive early action policy that allows admitted students to consider admission to Notre Dame as well as any other colleges to which they were accepted. 1,400 of the 3,577 (39.1%) were admitted under the early action plan. Admitted students came from 1,311 high schools and the average student traveled more than 750 miles to Notre Dame, making it arguably the most representative university in the United States. While all entering students begin in the College of the First Year of Studies, 25% have indicated they plan to study in the liberal arts or social sciences, 24% in engineering, 24% in business, 24% in science, and 3% in architecture.\n",
            "8. The Rev. John J. Cavanaugh, C.S.C. served as president from 1946 to 1952. Cavanaugh's legacy at Notre Dame in the post-war years was devoted to raising academic standards and reshaping the university administration to suit it to an enlarged educational mission and an expanded student body and stressing advanced studies and research at a time when Notre Dame quadrupled in student census, undergraduate enrollment increased by more than half, and graduate student enrollment grew fivefold. Cavanaugh also established the Lobund Institute for Animal Studies and Notre Dame's Medieval Institute. Cavanaugh also presided over the construction of the Nieuwland Science Hall, Fisher Hall, and the Morris Inn, as well as the Hall of Liberal Arts (now O'Shaughnessy Hall), made possible by a donation from I.A. O'Shaughnessy, at the time the largest ever made to an American Catholic university. Cavanaugh also established a system of advisory councils at the university, which continue today and are vital to the university's governance and development\n",
            "9. In 1919 Father James Burns became president of Notre Dame, and in three years he produced an academic revolution that brought the school up to national standards by adopting the elective system and moving away from the university's traditional scholastic and classical emphasis. By contrast, the Jesuit colleges, bastions of academic conservatism, were reluctant to move to a system of electives. Their graduates were shut out of Harvard Law School for that reason. Notre Dame continued to grow over the years, adding more colleges, programs, and sports teams. By 1921, with the addition of the College of Commerce, Notre Dame had grown from a small college to a university with five colleges and a professional law school. The university continued to expand and add new residence halls and buildings with each subsequent president.\n",
            "10. The success of its football team made Notre Dame a household name. The success of Note Dame reflected rising status of Irish Americans and Catholics in the 1920s. Catholics rallied up around the team and listen to the games on the radio, especially when it knocked off the schools that symbolized the Protestant establishment in America — Harvard, Yale, Princeton, and Army. Yet this role as high-profile flagship institution of Catholicism made it an easy target of anti-Catholicism. The most remarkable episode of violence was the clash between Notre Dame students and the Ku Klux Klan in 1924. Nativism and anti-Catholicism, especially when directed towards immigrants, were cornerstones of the KKK's rhetoric, and Notre Dame was seen as a symbol of the threat posed by the Catholic Church. The Klan decided to have a week-long Klavern in South Bend. Clashes with the student body started on March 17, when students, aware of the anti-Catholic animosity, blocked the Klansmen from descending from their trains in the South Bend station and ripped the KKK clothes and regalia. On May 19 thousands of students massed downtown protesting the Klavern, and only the arrival of college president Fr. Matthew Walsh prevented any further clashes. The next day, football coach Knute Rockne spoke at a campus rally and implored the students to obey the college president and refrain from further violence. A few days later the Klavern broke up, but the hostility shown by the students was an omen and a contribution to the downfall of the KKK in Indiana.\n",
            "11. Holy Cross Father John Francis O'Hara was elected vice-president in 1933 and president of Notre Dame in 1934. During his tenure at Notre Dame, he brought numerous refugee intellectuals to campus; he selected Frank H. Spearman, Jeremiah D. M. Ford, Irvin Abell, and Josephine Brownson for the Laetare Medal, instituted in 1883. O'Hara strongly believed that the Fighting Irish football team could be an effective means to \"acquaint the public with the ideals that dominate\" Notre Dame. He wrote, \"Notre Dame football is a spiritual service because it is played for the honor and glory of God and of his Blessed Mother. When St. Paul said: 'Whether you eat or drink, or whatsoever else you do, do all for the glory of God,' he included football.\"\n",
            "12. The University of Notre Dame has made being a sustainability leader an integral part of its mission, creating the Office of Sustainability in 2008 to achieve a number of goals in the areas of power generation, design and construction, waste reduction, procurement, food services, transportation, and water.As of 2012[update] four building construction projects were pursuing LEED-Certified status and three were pursuing LEED Silver. Notre Dame's dining services sources 40% of its food locally and offers sustainably caught seafood as well as many organic, fair-trade, and vegan options. On the Sustainable Endowments Institute's College Sustainability Report Card 2010, University of Notre Dame received a \"B\" grade. The university also houses the Kroc Institute for International Peace Studies. Father Gustavo Gutierrez, the founder of Liberation Theology is a current faculty member.\n",
            "13. George Gipp was the school's legendary football player during 1916–20. He played semiprofessional baseball and smoked, drank, and gambled when not playing sports. He was also humble, generous to the needy, and a man of integrity. It was in 1928 that famed coach Knute Rockne used his final conversation with the dying Gipp to inspire the Notre Dame team to beat the Army team and \"win one for the Gipper.\" The 1940 film, Knute Rockne, All American, starred Pat O'Brien as Knute Rockne and Ronald Reagan as Gipp. Today the team competes in Notre Dame Stadium, an 80,795-seat stadium on campus. The current head coach is Brian Kelly, hired from the University of Cincinnati on December 11, 2009. Kelly's record in midway through his sixth season at Notre Dame is 52–21. In 2012, Kelly's Fighting Irish squad went undefeated and played in the BCS National Championship Game. Kelly succeeded Charlie Weis, who was fired in November 2009 after five seasons. Although Weis led his team to two Bowl Championship Series bowl games, his overall record was 35–27, mediocre by Notre Dame standards, and the 2007 team had the most losses in school history. The football team generates enough revenue to operate independently while $22.1 million is retained from the team's profits for academic use. Forbes named the team as the most valuable in college football, worth a total of $101 million in 2007.\n",
            "14. The Notre Dame football team has a long history, first beginning when the Michigan Wolverines football team brought football to Notre Dame in 1887 and played against a group of students. In the long history since then, 13 Fighting Irish teams have won consensus national championships (although the university only claims 11), along with another nine teams being named national champion by at least one source. Additionally, the program has the most members in the College Football Hall of Fame, is tied with Ohio State University with the most Heisman Trophies won, and have the highest winning percentage in NCAA history. With the long history, Notre Dame has accumulated many rivals, and its annual game against USC for the Jeweled Shillelagh has been named by some as one of the most important in college football and is often called the greatest intersectional rivalry in college football in the country.\n",
            "15. As of 2012[update] research continued in many fields. The university president, John Jenkins, described his hope that Notre Dame would become \"one of the pre–eminent research institutions in the world\" in his inaugural address. The university has many multi-disciplinary institutes devoted to research in varying fields, including the Medieval Institute, the Kellogg Institute for International Studies, the Kroc Institute for International Peace studies, and the Center for Social Concerns. Recent research includes work on family conflict and child development, genome mapping, the increasing trade deficit of the United States with China, studies in fluid mechanics, computational science and engineering, and marketing trends on the Internet. As of 2013, the university is home to the Notre Dame Global Adaptation Index which ranks countries annually based on how vulnerable they are to climate change and how prepared they are to adapt.\n",
            "16. The library system of the university is divided between the main library and each of the colleges and schools. The main building is the 14-story Theodore M. Hesburgh Library, completed in 1963, which is the third building to house the main collection of books. The front of the library is adorned with the Word of Life mural designed by artist Millard Sheets. This mural is popularly known as \"Touchdown Jesus\" because of its proximity to Notre Dame Stadium and Jesus' arms appearing to make the signal for a touchdown.\n",
            "17. Notre Dame rose to national prominence in the early 1900s for its Fighting Irish football team, especially under the guidance of the legendary coach Knute Rockne. The university's athletic teams are members of the NCAA Division I and are known collectively as the Fighting Irish. The football team, an Independent, has accumulated eleven consensus national championships, seven Heisman Trophy winners, 62 members in the College Football Hall of Fame and 13 members in the Pro Football Hall of Fame and is considered one of the most famed and successful college football teams in history. Other ND teams, chiefly in the Atlantic Coast Conference, have accumulated 16 national championships. The Notre Dame Victory March is often regarded as the most famous and recognizable collegiate fight song.\n",
            "18. In 2014 the Notre Dame student body consisted of 12,179 students, with 8,448 undergraduates, 2,138 graduate and professional and 1,593 professional (Law, M.Div., Business, M.Ed.) students. Around 21–24% of students are children of alumni, and although 37% of students come from the Midwestern United States, the student body represents all 50 states and 100 countries. As of March 2007[update] The Princeton Review ranked the school as the fifth highest 'dream school' for parents to send their children. As of March 2015[update] The Princeton Review ranked Notre Dame as the ninth highest. The school has been previously criticized for its lack of diversity, and The Princeton Review ranks the university highly among schools at which \"Alternative Lifestyles [are] Not an Alternative.\" It has also been commended by some diversity oriented publications; Hispanic Magazine in 2004 ranked the university ninth on its list of the top–25 colleges for Latinos, and The Journal of Blacks in Higher Education recognized the university in 2006 for raising enrollment of African-American students. With 6,000 participants, the university's intramural sports program was named in 2004 by Sports Illustrated as the best program in the country, while in 2007 The Princeton Review named it as the top school where \"Everyone Plays Intramural Sports.\" The annual Bookstore Basketball tournament is the largest outdoor five-on-five tournament in the world with over 700 teams participating each year, while the Notre Dame Men's Boxing Club hosts the annual Bengal Bouts tournament that raises money for the Holy Cross Missions in Bangladesh.\n",
            "19. Because of its Catholic identity, a number of religious buildings stand on campus. The Old College building has become one of two seminaries on campus run by the Congregation of Holy Cross. The current Basilica of the Sacred Heart is located on the spot of Fr. Sorin's original church, which became too small for the growing college. It is built in French Revival style and it is decorated by stained glass windows imported directly from France. The interior was painted by Luigi Gregori, an Italian painter invited by Fr. Sorin to be artist in residence. The Basilica also features a bell tower with a carillon. Inside the church there are also sculptures by Ivan Mestrovic. The Grotto of Our Lady of Lourdes, which was built in 1896, is a replica of the original in Lourdes, France. It is very popular among students and alumni as a place of prayer and meditation, and it is considered one of the most beloved spots on campus.\n"
          ]
        }
      ]
    },
    {
      "cell_type": "code",
      "source": [],
      "metadata": {
        "id": "kWzFSDyb-mC3"
      },
      "execution_count": null,
      "outputs": []
    }
  ],
  "metadata": {
    "colab": {
      "provenance": [],
      "gpuType": "T4"
    },
    "kernelspec": {
      "display_name": "Python 3",
      "name": "python3"
    },
    "accelerator": "GPU"
  },
  "nbformat": 4,
  "nbformat_minor": 0
}