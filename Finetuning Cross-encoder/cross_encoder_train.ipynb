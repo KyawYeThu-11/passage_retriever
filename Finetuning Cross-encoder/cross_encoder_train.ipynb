{
  "nbformat": 4,
  "nbformat_minor": 0,
  "metadata": {
    "colab": {
      "provenance": [],
      "gpuType": "T4",
      "collapsed_sections": [
        "Cd9INyJ43x2Y",
        "XGQTVsDzNudX",
        "E0cdtWQZZcV4"
      ]
    },
    "kernelspec": {
      "name": "python3",
      "display_name": "Python 3"
    },
    "language_info": {
      "name": "python"
    },
    "accelerator": "GPU",
    "widgets": {
      "application/vnd.jupyter.widget-state+json": {
        "862e735d83b24343a1cc755e013e6723": {
          "model_module": "@jupyter-widgets/controls",
          "model_name": "HBoxModel",
          "model_module_version": "1.5.0",
          "state": {
            "_dom_classes": [],
            "_model_module": "@jupyter-widgets/controls",
            "_model_module_version": "1.5.0",
            "_model_name": "HBoxModel",
            "_view_count": null,
            "_view_module": "@jupyter-widgets/controls",
            "_view_module_version": "1.5.0",
            "_view_name": "HBoxView",
            "box_style": "",
            "children": [
              "IPY_MODEL_8fb3482bae774cc6ad0c086546774e32",
              "IPY_MODEL_2909bc5ab5b44536918248fe0e4cfa6f",
              "IPY_MODEL_b7353ab937d74e59b7ef2d2501ba8b45"
            ],
            "layout": "IPY_MODEL_58ad965bc16a4dfc8eb8b2f1026a3292"
          }
        },
        "8fb3482bae774cc6ad0c086546774e32": {
          "model_module": "@jupyter-widgets/controls",
          "model_name": "HTMLModel",
          "model_module_version": "1.5.0",
          "state": {
            "_dom_classes": [],
            "_model_module": "@jupyter-widgets/controls",
            "_model_module_version": "1.5.0",
            "_model_name": "HTMLModel",
            "_view_count": null,
            "_view_module": "@jupyter-widgets/controls",
            "_view_module_version": "1.5.0",
            "_view_name": "HTMLView",
            "description": "",
            "description_tooltip": null,
            "layout": "IPY_MODEL_96d80bede6b145059d883dfb6daee981",
            "placeholder": "​",
            "style": "IPY_MODEL_0a9731b2ba26406384cbfcdbff5a2f58",
            "value": ""
          }
        },
        "2909bc5ab5b44536918248fe0e4cfa6f": {
          "model_module": "@jupyter-widgets/controls",
          "model_name": "FloatProgressModel",
          "model_module_version": "1.5.0",
          "state": {
            "_dom_classes": [],
            "_model_module": "@jupyter-widgets/controls",
            "_model_module_version": "1.5.0",
            "_model_name": "FloatProgressModel",
            "_view_count": null,
            "_view_module": "@jupyter-widgets/controls",
            "_view_module_version": "1.5.0",
            "_view_name": "ProgressView",
            "bar_style": "success",
            "description": "",
            "description_tooltip": null,
            "layout": "IPY_MODEL_44793c27503543f0b6454ba41f2b5603",
            "max": 1364,
            "min": 0,
            "orientation": "horizontal",
            "style": "IPY_MODEL_ee5e48fdfb3d48369c92bb1c3c2b322a",
            "value": 1364
          }
        },
        "b7353ab937d74e59b7ef2d2501ba8b45": {
          "model_module": "@jupyter-widgets/controls",
          "model_name": "HTMLModel",
          "model_module_version": "1.5.0",
          "state": {
            "_dom_classes": [],
            "_model_module": "@jupyter-widgets/controls",
            "_model_module_version": "1.5.0",
            "_model_name": "HTMLModel",
            "_view_count": null,
            "_view_module": "@jupyter-widgets/controls",
            "_view_module_version": "1.5.0",
            "_view_name": "HTMLView",
            "description": "",
            "description_tooltip": null,
            "layout": "IPY_MODEL_53f2759d052f46caa4e776d62b598f5d",
            "placeholder": "​",
            "style": "IPY_MODEL_e52baf5cc10a435b8eb6627177a2d7cf",
            "value": " 3.73k/? [00:00&lt;00:00, 151kB/s]"
          }
        },
        "58ad965bc16a4dfc8eb8b2f1026a3292": {
          "model_module": "@jupyter-widgets/base",
          "model_name": "LayoutModel",
          "model_module_version": "1.2.0",
          "state": {
            "_model_module": "@jupyter-widgets/base",
            "_model_module_version": "1.2.0",
            "_model_name": "LayoutModel",
            "_view_count": null,
            "_view_module": "@jupyter-widgets/base",
            "_view_module_version": "1.2.0",
            "_view_name": "LayoutView",
            "align_content": null,
            "align_items": null,
            "align_self": null,
            "border": null,
            "bottom": null,
            "display": null,
            "flex": null,
            "flex_flow": null,
            "grid_area": null,
            "grid_auto_columns": null,
            "grid_auto_flow": null,
            "grid_auto_rows": null,
            "grid_column": null,
            "grid_gap": null,
            "grid_row": null,
            "grid_template_areas": null,
            "grid_template_columns": null,
            "grid_template_rows": null,
            "height": null,
            "justify_content": null,
            "justify_items": null,
            "left": null,
            "margin": null,
            "max_height": null,
            "max_width": null,
            "min_height": null,
            "min_width": null,
            "object_fit": null,
            "object_position": null,
            "order": null,
            "overflow": null,
            "overflow_x": null,
            "overflow_y": null,
            "padding": null,
            "right": null,
            "top": null,
            "visibility": null,
            "width": null
          }
        },
        "96d80bede6b145059d883dfb6daee981": {
          "model_module": "@jupyter-widgets/base",
          "model_name": "LayoutModel",
          "model_module_version": "1.2.0",
          "state": {
            "_model_module": "@jupyter-widgets/base",
            "_model_module_version": "1.2.0",
            "_model_name": "LayoutModel",
            "_view_count": null,
            "_view_module": "@jupyter-widgets/base",
            "_view_module_version": "1.2.0",
            "_view_name": "LayoutView",
            "align_content": null,
            "align_items": null,
            "align_self": null,
            "border": null,
            "bottom": null,
            "display": null,
            "flex": null,
            "flex_flow": null,
            "grid_area": null,
            "grid_auto_columns": null,
            "grid_auto_flow": null,
            "grid_auto_rows": null,
            "grid_column": null,
            "grid_gap": null,
            "grid_row": null,
            "grid_template_areas": null,
            "grid_template_columns": null,
            "grid_template_rows": null,
            "height": null,
            "justify_content": null,
            "justify_items": null,
            "left": null,
            "margin": null,
            "max_height": null,
            "max_width": null,
            "min_height": null,
            "min_width": null,
            "object_fit": null,
            "object_position": null,
            "order": null,
            "overflow": null,
            "overflow_x": null,
            "overflow_y": null,
            "padding": null,
            "right": null,
            "top": null,
            "visibility": null,
            "width": null
          }
        },
        "0a9731b2ba26406384cbfcdbff5a2f58": {
          "model_module": "@jupyter-widgets/controls",
          "model_name": "DescriptionStyleModel",
          "model_module_version": "1.5.0",
          "state": {
            "_model_module": "@jupyter-widgets/controls",
            "_model_module_version": "1.5.0",
            "_model_name": "DescriptionStyleModel",
            "_view_count": null,
            "_view_module": "@jupyter-widgets/base",
            "_view_module_version": "1.2.0",
            "_view_name": "StyleView",
            "description_width": ""
          }
        },
        "44793c27503543f0b6454ba41f2b5603": {
          "model_module": "@jupyter-widgets/base",
          "model_name": "LayoutModel",
          "model_module_version": "1.2.0",
          "state": {
            "_model_module": "@jupyter-widgets/base",
            "_model_module_version": "1.2.0",
            "_model_name": "LayoutModel",
            "_view_count": null,
            "_view_module": "@jupyter-widgets/base",
            "_view_module_version": "1.2.0",
            "_view_name": "LayoutView",
            "align_content": null,
            "align_items": null,
            "align_self": null,
            "border": null,
            "bottom": null,
            "display": null,
            "flex": null,
            "flex_flow": null,
            "grid_area": null,
            "grid_auto_columns": null,
            "grid_auto_flow": null,
            "grid_auto_rows": null,
            "grid_column": null,
            "grid_gap": null,
            "grid_row": null,
            "grid_template_areas": null,
            "grid_template_columns": null,
            "grid_template_rows": null,
            "height": null,
            "justify_content": null,
            "justify_items": null,
            "left": null,
            "margin": null,
            "max_height": null,
            "max_width": null,
            "min_height": null,
            "min_width": null,
            "object_fit": null,
            "object_position": null,
            "order": null,
            "overflow": null,
            "overflow_x": null,
            "overflow_y": null,
            "padding": null,
            "right": null,
            "top": null,
            "visibility": null,
            "width": null
          }
        },
        "ee5e48fdfb3d48369c92bb1c3c2b322a": {
          "model_module": "@jupyter-widgets/controls",
          "model_name": "ProgressStyleModel",
          "model_module_version": "1.5.0",
          "state": {
            "_model_module": "@jupyter-widgets/controls",
            "_model_module_version": "1.5.0",
            "_model_name": "ProgressStyleModel",
            "_view_count": null,
            "_view_module": "@jupyter-widgets/base",
            "_view_module_version": "1.2.0",
            "_view_name": "StyleView",
            "bar_color": null,
            "description_width": ""
          }
        },
        "53f2759d052f46caa4e776d62b598f5d": {
          "model_module": "@jupyter-widgets/base",
          "model_name": "LayoutModel",
          "model_module_version": "1.2.0",
          "state": {
            "_model_module": "@jupyter-widgets/base",
            "_model_module_version": "1.2.0",
            "_model_name": "LayoutModel",
            "_view_count": null,
            "_view_module": "@jupyter-widgets/base",
            "_view_module_version": "1.2.0",
            "_view_name": "LayoutView",
            "align_content": null,
            "align_items": null,
            "align_self": null,
            "border": null,
            "bottom": null,
            "display": null,
            "flex": null,
            "flex_flow": null,
            "grid_area": null,
            "grid_auto_columns": null,
            "grid_auto_flow": null,
            "grid_auto_rows": null,
            "grid_column": null,
            "grid_gap": null,
            "grid_row": null,
            "grid_template_areas": null,
            "grid_template_columns": null,
            "grid_template_rows": null,
            "height": null,
            "justify_content": null,
            "justify_items": null,
            "left": null,
            "margin": null,
            "max_height": null,
            "max_width": null,
            "min_height": null,
            "min_width": null,
            "object_fit": null,
            "object_position": null,
            "order": null,
            "overflow": null,
            "overflow_x": null,
            "overflow_y": null,
            "padding": null,
            "right": null,
            "top": null,
            "visibility": null,
            "width": null
          }
        },
        "e52baf5cc10a435b8eb6627177a2d7cf": {
          "model_module": "@jupyter-widgets/controls",
          "model_name": "DescriptionStyleModel",
          "model_module_version": "1.5.0",
          "state": {
            "_model_module": "@jupyter-widgets/controls",
            "_model_module_version": "1.5.0",
            "_model_name": "DescriptionStyleModel",
            "_view_count": null,
            "_view_module": "@jupyter-widgets/base",
            "_view_module_version": "1.2.0",
            "_view_name": "StyleView",
            "description_width": ""
          }
        },
        "297bcbaa49b04ec2a3951ed450c398b8": {
          "model_module": "@jupyter-widgets/controls",
          "model_name": "HBoxModel",
          "model_module_version": "1.5.0",
          "state": {
            "_dom_classes": [],
            "_model_module": "@jupyter-widgets/controls",
            "_model_module_version": "1.5.0",
            "_model_name": "HBoxModel",
            "_view_count": null,
            "_view_module": "@jupyter-widgets/controls",
            "_view_module_version": "1.5.0",
            "_view_name": "HBoxView",
            "box_style": "",
            "children": [
              "IPY_MODEL_fc77445a55f5420d9d4b75dae074ef1a",
              "IPY_MODEL_82e45c4a5157474b85afda5627559025",
              "IPY_MODEL_0085f13e5c6249558cd6382c101f5ce7"
            ],
            "layout": "IPY_MODEL_00388f383547491fa41b8d8cf20da26b"
          }
        },
        "fc77445a55f5420d9d4b75dae074ef1a": {
          "model_module": "@jupyter-widgets/controls",
          "model_name": "HTMLModel",
          "model_module_version": "1.5.0",
          "state": {
            "_dom_classes": [],
            "_model_module": "@jupyter-widgets/controls",
            "_model_module_version": "1.5.0",
            "_model_name": "HTMLModel",
            "_view_count": null,
            "_view_module": "@jupyter-widgets/controls",
            "_view_module_version": "1.5.0",
            "_view_name": "HTMLView",
            "description": "",
            "description_tooltip": null,
            "layout": "IPY_MODEL_13fc3bee39284c4e89c5b1d2445d850e",
            "placeholder": "​",
            "style": "IPY_MODEL_d8cfa2012b8446fbac2ee88092186a3e",
            "value": "Epoch: 100%"
          }
        },
        "82e45c4a5157474b85afda5627559025": {
          "model_module": "@jupyter-widgets/controls",
          "model_name": "FloatProgressModel",
          "model_module_version": "1.5.0",
          "state": {
            "_dom_classes": [],
            "_model_module": "@jupyter-widgets/controls",
            "_model_module_version": "1.5.0",
            "_model_name": "FloatProgressModel",
            "_view_count": null,
            "_view_module": "@jupyter-widgets/controls",
            "_view_module_version": "1.5.0",
            "_view_name": "ProgressView",
            "bar_style": "success",
            "description": "",
            "description_tooltip": null,
            "layout": "IPY_MODEL_ee84fa5acd2542b38b6bde738f0da364",
            "max": 1,
            "min": 0,
            "orientation": "horizontal",
            "style": "IPY_MODEL_07412635c6b04de8b3ba46de2f9a6f60",
            "value": 1
          }
        },
        "0085f13e5c6249558cd6382c101f5ce7": {
          "model_module": "@jupyter-widgets/controls",
          "model_name": "HTMLModel",
          "model_module_version": "1.5.0",
          "state": {
            "_dom_classes": [],
            "_model_module": "@jupyter-widgets/controls",
            "_model_module_version": "1.5.0",
            "_model_name": "HTMLModel",
            "_view_count": null,
            "_view_module": "@jupyter-widgets/controls",
            "_view_module_version": "1.5.0",
            "_view_name": "HTMLView",
            "description": "",
            "description_tooltip": null,
            "layout": "IPY_MODEL_c5ef68c88fe9427a85461cf214adabba",
            "placeholder": "​",
            "style": "IPY_MODEL_19812c082aaf461cb4222887be5dfa0e",
            "value": " 1/1 [13:04&lt;00:00, 784.24s/it]"
          }
        },
        "00388f383547491fa41b8d8cf20da26b": {
          "model_module": "@jupyter-widgets/base",
          "model_name": "LayoutModel",
          "model_module_version": "1.2.0",
          "state": {
            "_model_module": "@jupyter-widgets/base",
            "_model_module_version": "1.2.0",
            "_model_name": "LayoutModel",
            "_view_count": null,
            "_view_module": "@jupyter-widgets/base",
            "_view_module_version": "1.2.0",
            "_view_name": "LayoutView",
            "align_content": null,
            "align_items": null,
            "align_self": null,
            "border": null,
            "bottom": null,
            "display": null,
            "flex": null,
            "flex_flow": null,
            "grid_area": null,
            "grid_auto_columns": null,
            "grid_auto_flow": null,
            "grid_auto_rows": null,
            "grid_column": null,
            "grid_gap": null,
            "grid_row": null,
            "grid_template_areas": null,
            "grid_template_columns": null,
            "grid_template_rows": null,
            "height": null,
            "justify_content": null,
            "justify_items": null,
            "left": null,
            "margin": null,
            "max_height": null,
            "max_width": null,
            "min_height": null,
            "min_width": null,
            "object_fit": null,
            "object_position": null,
            "order": null,
            "overflow": null,
            "overflow_x": null,
            "overflow_y": null,
            "padding": null,
            "right": null,
            "top": null,
            "visibility": null,
            "width": null
          }
        },
        "13fc3bee39284c4e89c5b1d2445d850e": {
          "model_module": "@jupyter-widgets/base",
          "model_name": "LayoutModel",
          "model_module_version": "1.2.0",
          "state": {
            "_model_module": "@jupyter-widgets/base",
            "_model_module_version": "1.2.0",
            "_model_name": "LayoutModel",
            "_view_count": null,
            "_view_module": "@jupyter-widgets/base",
            "_view_module_version": "1.2.0",
            "_view_name": "LayoutView",
            "align_content": null,
            "align_items": null,
            "align_self": null,
            "border": null,
            "bottom": null,
            "display": null,
            "flex": null,
            "flex_flow": null,
            "grid_area": null,
            "grid_auto_columns": null,
            "grid_auto_flow": null,
            "grid_auto_rows": null,
            "grid_column": null,
            "grid_gap": null,
            "grid_row": null,
            "grid_template_areas": null,
            "grid_template_columns": null,
            "grid_template_rows": null,
            "height": null,
            "justify_content": null,
            "justify_items": null,
            "left": null,
            "margin": null,
            "max_height": null,
            "max_width": null,
            "min_height": null,
            "min_width": null,
            "object_fit": null,
            "object_position": null,
            "order": null,
            "overflow": null,
            "overflow_x": null,
            "overflow_y": null,
            "padding": null,
            "right": null,
            "top": null,
            "visibility": null,
            "width": null
          }
        },
        "d8cfa2012b8446fbac2ee88092186a3e": {
          "model_module": "@jupyter-widgets/controls",
          "model_name": "DescriptionStyleModel",
          "model_module_version": "1.5.0",
          "state": {
            "_model_module": "@jupyter-widgets/controls",
            "_model_module_version": "1.5.0",
            "_model_name": "DescriptionStyleModel",
            "_view_count": null,
            "_view_module": "@jupyter-widgets/base",
            "_view_module_version": "1.2.0",
            "_view_name": "StyleView",
            "description_width": ""
          }
        },
        "ee84fa5acd2542b38b6bde738f0da364": {
          "model_module": "@jupyter-widgets/base",
          "model_name": "LayoutModel",
          "model_module_version": "1.2.0",
          "state": {
            "_model_module": "@jupyter-widgets/base",
            "_model_module_version": "1.2.0",
            "_model_name": "LayoutModel",
            "_view_count": null,
            "_view_module": "@jupyter-widgets/base",
            "_view_module_version": "1.2.0",
            "_view_name": "LayoutView",
            "align_content": null,
            "align_items": null,
            "align_self": null,
            "border": null,
            "bottom": null,
            "display": null,
            "flex": null,
            "flex_flow": null,
            "grid_area": null,
            "grid_auto_columns": null,
            "grid_auto_flow": null,
            "grid_auto_rows": null,
            "grid_column": null,
            "grid_gap": null,
            "grid_row": null,
            "grid_template_areas": null,
            "grid_template_columns": null,
            "grid_template_rows": null,
            "height": null,
            "justify_content": null,
            "justify_items": null,
            "left": null,
            "margin": null,
            "max_height": null,
            "max_width": null,
            "min_height": null,
            "min_width": null,
            "object_fit": null,
            "object_position": null,
            "order": null,
            "overflow": null,
            "overflow_x": null,
            "overflow_y": null,
            "padding": null,
            "right": null,
            "top": null,
            "visibility": null,
            "width": null
          }
        },
        "07412635c6b04de8b3ba46de2f9a6f60": {
          "model_module": "@jupyter-widgets/controls",
          "model_name": "ProgressStyleModel",
          "model_module_version": "1.5.0",
          "state": {
            "_model_module": "@jupyter-widgets/controls",
            "_model_module_version": "1.5.0",
            "_model_name": "ProgressStyleModel",
            "_view_count": null,
            "_view_module": "@jupyter-widgets/base",
            "_view_module_version": "1.2.0",
            "_view_name": "StyleView",
            "bar_color": null,
            "description_width": ""
          }
        },
        "c5ef68c88fe9427a85461cf214adabba": {
          "model_module": "@jupyter-widgets/base",
          "model_name": "LayoutModel",
          "model_module_version": "1.2.0",
          "state": {
            "_model_module": "@jupyter-widgets/base",
            "_model_module_version": "1.2.0",
            "_model_name": "LayoutModel",
            "_view_count": null,
            "_view_module": "@jupyter-widgets/base",
            "_view_module_version": "1.2.0",
            "_view_name": "LayoutView",
            "align_content": null,
            "align_items": null,
            "align_self": null,
            "border": null,
            "bottom": null,
            "display": null,
            "flex": null,
            "flex_flow": null,
            "grid_area": null,
            "grid_auto_columns": null,
            "grid_auto_flow": null,
            "grid_auto_rows": null,
            "grid_column": null,
            "grid_gap": null,
            "grid_row": null,
            "grid_template_areas": null,
            "grid_template_columns": null,
            "grid_template_rows": null,
            "height": null,
            "justify_content": null,
            "justify_items": null,
            "left": null,
            "margin": null,
            "max_height": null,
            "max_width": null,
            "min_height": null,
            "min_width": null,
            "object_fit": null,
            "object_position": null,
            "order": null,
            "overflow": null,
            "overflow_x": null,
            "overflow_y": null,
            "padding": null,
            "right": null,
            "top": null,
            "visibility": null,
            "width": null
          }
        },
        "19812c082aaf461cb4222887be5dfa0e": {
          "model_module": "@jupyter-widgets/controls",
          "model_name": "DescriptionStyleModel",
          "model_module_version": "1.5.0",
          "state": {
            "_model_module": "@jupyter-widgets/controls",
            "_model_module_version": "1.5.0",
            "_model_name": "DescriptionStyleModel",
            "_view_count": null,
            "_view_module": "@jupyter-widgets/base",
            "_view_module_version": "1.2.0",
            "_view_name": "StyleView",
            "description_width": ""
          }
        },
        "beb844f9852c43598a8554cd222d16c6": {
          "model_module": "@jupyter-widgets/controls",
          "model_name": "HBoxModel",
          "model_module_version": "1.5.0",
          "state": {
            "_dom_classes": [],
            "_model_module": "@jupyter-widgets/controls",
            "_model_module_version": "1.5.0",
            "_model_name": "HBoxModel",
            "_view_count": null,
            "_view_module": "@jupyter-widgets/controls",
            "_view_module_version": "1.5.0",
            "_view_name": "HBoxView",
            "box_style": "",
            "children": [
              "IPY_MODEL_71637294b67d4effaa56ef6e9dd64c1b",
              "IPY_MODEL_eccdcba038314af1a5e1fd239b370672",
              "IPY_MODEL_c290576fa92f40c8974e5600b84b9c47"
            ],
            "layout": "IPY_MODEL_7a76a2bb41334556b41198d0554d5409"
          }
        },
        "71637294b67d4effaa56ef6e9dd64c1b": {
          "model_module": "@jupyter-widgets/controls",
          "model_name": "HTMLModel",
          "model_module_version": "1.5.0",
          "state": {
            "_dom_classes": [],
            "_model_module": "@jupyter-widgets/controls",
            "_model_module_version": "1.5.0",
            "_model_name": "HTMLModel",
            "_view_count": null,
            "_view_module": "@jupyter-widgets/controls",
            "_view_module_version": "1.5.0",
            "_view_name": "HTMLView",
            "description": "",
            "description_tooltip": null,
            "layout": "IPY_MODEL_4d4ed80376884e05ab880527ffd48bc3",
            "placeholder": "​",
            "style": "IPY_MODEL_30c1682495244857a2b9b71cb9e85829",
            "value": "Iteration: 100%"
          }
        },
        "eccdcba038314af1a5e1fd239b370672": {
          "model_module": "@jupyter-widgets/controls",
          "model_name": "FloatProgressModel",
          "model_module_version": "1.5.0",
          "state": {
            "_dom_classes": [],
            "_model_module": "@jupyter-widgets/controls",
            "_model_module_version": "1.5.0",
            "_model_name": "FloatProgressModel",
            "_view_count": null,
            "_view_module": "@jupyter-widgets/controls",
            "_view_module_version": "1.5.0",
            "_view_name": "ProgressView",
            "bar_style": "success",
            "description": "",
            "description_tooltip": null,
            "layout": "IPY_MODEL_4c67fb93fcc844218ea0f01c1b0d830a",
            "max": 2732,
            "min": 0,
            "orientation": "horizontal",
            "style": "IPY_MODEL_066f284b6c1f4a90af6f1a1036ea68b4",
            "value": 2732
          }
        },
        "c290576fa92f40c8974e5600b84b9c47": {
          "model_module": "@jupyter-widgets/controls",
          "model_name": "HTMLModel",
          "model_module_version": "1.5.0",
          "state": {
            "_dom_classes": [],
            "_model_module": "@jupyter-widgets/controls",
            "_model_module_version": "1.5.0",
            "_model_name": "HTMLModel",
            "_view_count": null,
            "_view_module": "@jupyter-widgets/controls",
            "_view_module_version": "1.5.0",
            "_view_name": "HTMLView",
            "description": "",
            "description_tooltip": null,
            "layout": "IPY_MODEL_a92e8bd3547e45b1bd2427303c3122dc",
            "placeholder": "​",
            "style": "IPY_MODEL_2578ce1a7e7641f2a1162d139f173c48",
            "value": " 2732/2732 [13:01&lt;00:00,  3.51it/s]"
          }
        },
        "7a76a2bb41334556b41198d0554d5409": {
          "model_module": "@jupyter-widgets/base",
          "model_name": "LayoutModel",
          "model_module_version": "1.2.0",
          "state": {
            "_model_module": "@jupyter-widgets/base",
            "_model_module_version": "1.2.0",
            "_model_name": "LayoutModel",
            "_view_count": null,
            "_view_module": "@jupyter-widgets/base",
            "_view_module_version": "1.2.0",
            "_view_name": "LayoutView",
            "align_content": null,
            "align_items": null,
            "align_self": null,
            "border": null,
            "bottom": null,
            "display": null,
            "flex": null,
            "flex_flow": null,
            "grid_area": null,
            "grid_auto_columns": null,
            "grid_auto_flow": null,
            "grid_auto_rows": null,
            "grid_column": null,
            "grid_gap": null,
            "grid_row": null,
            "grid_template_areas": null,
            "grid_template_columns": null,
            "grid_template_rows": null,
            "height": null,
            "justify_content": null,
            "justify_items": null,
            "left": null,
            "margin": null,
            "max_height": null,
            "max_width": null,
            "min_height": null,
            "min_width": null,
            "object_fit": null,
            "object_position": null,
            "order": null,
            "overflow": null,
            "overflow_x": null,
            "overflow_y": null,
            "padding": null,
            "right": null,
            "top": null,
            "visibility": null,
            "width": null
          }
        },
        "4d4ed80376884e05ab880527ffd48bc3": {
          "model_module": "@jupyter-widgets/base",
          "model_name": "LayoutModel",
          "model_module_version": "1.2.0",
          "state": {
            "_model_module": "@jupyter-widgets/base",
            "_model_module_version": "1.2.0",
            "_model_name": "LayoutModel",
            "_view_count": null,
            "_view_module": "@jupyter-widgets/base",
            "_view_module_version": "1.2.0",
            "_view_name": "LayoutView",
            "align_content": null,
            "align_items": null,
            "align_self": null,
            "border": null,
            "bottom": null,
            "display": null,
            "flex": null,
            "flex_flow": null,
            "grid_area": null,
            "grid_auto_columns": null,
            "grid_auto_flow": null,
            "grid_auto_rows": null,
            "grid_column": null,
            "grid_gap": null,
            "grid_row": null,
            "grid_template_areas": null,
            "grid_template_columns": null,
            "grid_template_rows": null,
            "height": null,
            "justify_content": null,
            "justify_items": null,
            "left": null,
            "margin": null,
            "max_height": null,
            "max_width": null,
            "min_height": null,
            "min_width": null,
            "object_fit": null,
            "object_position": null,
            "order": null,
            "overflow": null,
            "overflow_x": null,
            "overflow_y": null,
            "padding": null,
            "right": null,
            "top": null,
            "visibility": null,
            "width": null
          }
        },
        "30c1682495244857a2b9b71cb9e85829": {
          "model_module": "@jupyter-widgets/controls",
          "model_name": "DescriptionStyleModel",
          "model_module_version": "1.5.0",
          "state": {
            "_model_module": "@jupyter-widgets/controls",
            "_model_module_version": "1.5.0",
            "_model_name": "DescriptionStyleModel",
            "_view_count": null,
            "_view_module": "@jupyter-widgets/base",
            "_view_module_version": "1.2.0",
            "_view_name": "StyleView",
            "description_width": ""
          }
        },
        "4c67fb93fcc844218ea0f01c1b0d830a": {
          "model_module": "@jupyter-widgets/base",
          "model_name": "LayoutModel",
          "model_module_version": "1.2.0",
          "state": {
            "_model_module": "@jupyter-widgets/base",
            "_model_module_version": "1.2.0",
            "_model_name": "LayoutModel",
            "_view_count": null,
            "_view_module": "@jupyter-widgets/base",
            "_view_module_version": "1.2.0",
            "_view_name": "LayoutView",
            "align_content": null,
            "align_items": null,
            "align_self": null,
            "border": null,
            "bottom": null,
            "display": null,
            "flex": null,
            "flex_flow": null,
            "grid_area": null,
            "grid_auto_columns": null,
            "grid_auto_flow": null,
            "grid_auto_rows": null,
            "grid_column": null,
            "grid_gap": null,
            "grid_row": null,
            "grid_template_areas": null,
            "grid_template_columns": null,
            "grid_template_rows": null,
            "height": null,
            "justify_content": null,
            "justify_items": null,
            "left": null,
            "margin": null,
            "max_height": null,
            "max_width": null,
            "min_height": null,
            "min_width": null,
            "object_fit": null,
            "object_position": null,
            "order": null,
            "overflow": null,
            "overflow_x": null,
            "overflow_y": null,
            "padding": null,
            "right": null,
            "top": null,
            "visibility": null,
            "width": null
          }
        },
        "066f284b6c1f4a90af6f1a1036ea68b4": {
          "model_module": "@jupyter-widgets/controls",
          "model_name": "ProgressStyleModel",
          "model_module_version": "1.5.0",
          "state": {
            "_model_module": "@jupyter-widgets/controls",
            "_model_module_version": "1.5.0",
            "_model_name": "ProgressStyleModel",
            "_view_count": null,
            "_view_module": "@jupyter-widgets/base",
            "_view_module_version": "1.2.0",
            "_view_name": "StyleView",
            "bar_color": null,
            "description_width": ""
          }
        },
        "a92e8bd3547e45b1bd2427303c3122dc": {
          "model_module": "@jupyter-widgets/base",
          "model_name": "LayoutModel",
          "model_module_version": "1.2.0",
          "state": {
            "_model_module": "@jupyter-widgets/base",
            "_model_module_version": "1.2.0",
            "_model_name": "LayoutModel",
            "_view_count": null,
            "_view_module": "@jupyter-widgets/base",
            "_view_module_version": "1.2.0",
            "_view_name": "LayoutView",
            "align_content": null,
            "align_items": null,
            "align_self": null,
            "border": null,
            "bottom": null,
            "display": null,
            "flex": null,
            "flex_flow": null,
            "grid_area": null,
            "grid_auto_columns": null,
            "grid_auto_flow": null,
            "grid_auto_rows": null,
            "grid_column": null,
            "grid_gap": null,
            "grid_row": null,
            "grid_template_areas": null,
            "grid_template_columns": null,
            "grid_template_rows": null,
            "height": null,
            "justify_content": null,
            "justify_items": null,
            "left": null,
            "margin": null,
            "max_height": null,
            "max_width": null,
            "min_height": null,
            "min_width": null,
            "object_fit": null,
            "object_position": null,
            "order": null,
            "overflow": null,
            "overflow_x": null,
            "overflow_y": null,
            "padding": null,
            "right": null,
            "top": null,
            "visibility": null,
            "width": null
          }
        },
        "2578ce1a7e7641f2a1162d139f173c48": {
          "model_module": "@jupyter-widgets/controls",
          "model_name": "DescriptionStyleModel",
          "model_module_version": "1.5.0",
          "state": {
            "_model_module": "@jupyter-widgets/controls",
            "_model_module_version": "1.5.0",
            "_model_name": "DescriptionStyleModel",
            "_view_count": null,
            "_view_module": "@jupyter-widgets/base",
            "_view_module_version": "1.2.0",
            "_view_name": "StyleView",
            "description_width": ""
          }
        },
        "c33f4be3669143e494ce38d12a2405ce": {
          "model_module": "@jupyter-widgets/controls",
          "model_name": "HBoxModel",
          "model_module_version": "1.5.0",
          "state": {
            "_dom_classes": [],
            "_model_module": "@jupyter-widgets/controls",
            "_model_module_version": "1.5.0",
            "_model_name": "HBoxModel",
            "_view_count": null,
            "_view_module": "@jupyter-widgets/controls",
            "_view_module_version": "1.5.0",
            "_view_name": "HBoxView",
            "box_style": "",
            "children": [
              "IPY_MODEL_f7613da85ab544228fdf3eecadc26146",
              "IPY_MODEL_2c624a77812a4cca9ba1b83ab4d4ff6f",
              "IPY_MODEL_bbf4a3e1f94b4c469453fa690095b09d"
            ],
            "layout": "IPY_MODEL_e3abb11b7d784992a67a2225e7cb57f9"
          }
        },
        "f7613da85ab544228fdf3eecadc26146": {
          "model_module": "@jupyter-widgets/controls",
          "model_name": "HTMLModel",
          "model_module_version": "1.5.0",
          "state": {
            "_dom_classes": [],
            "_model_module": "@jupyter-widgets/controls",
            "_model_module_version": "1.5.0",
            "_model_name": "HTMLModel",
            "_view_count": null,
            "_view_module": "@jupyter-widgets/controls",
            "_view_module_version": "1.5.0",
            "_view_name": "HTMLView",
            "description": "",
            "description_tooltip": null,
            "layout": "IPY_MODEL_1ba7ede0ffef425da5c3311fae034b55",
            "placeholder": "​",
            "style": "IPY_MODEL_7837febe1dee4d7b8ca2cee3892ee18a",
            "value": "Batches: 100%"
          }
        },
        "2c624a77812a4cca9ba1b83ab4d4ff6f": {
          "model_module": "@jupyter-widgets/controls",
          "model_name": "FloatProgressModel",
          "model_module_version": "1.5.0",
          "state": {
            "_dom_classes": [],
            "_model_module": "@jupyter-widgets/controls",
            "_model_module_version": "1.5.0",
            "_model_name": "FloatProgressModel",
            "_view_count": null,
            "_view_module": "@jupyter-widgets/controls",
            "_view_module_version": "1.5.0",
            "_view_name": "ProgressView",
            "bar_style": "success",
            "description": "",
            "description_tooltip": null,
            "layout": "IPY_MODEL_6be8b28cec2a421ea7ecc51a6d620304",
            "max": 65,
            "min": 0,
            "orientation": "horizontal",
            "style": "IPY_MODEL_e582c6c5656d4881bea619ceb3a62f2f",
            "value": 65
          }
        },
        "bbf4a3e1f94b4c469453fa690095b09d": {
          "model_module": "@jupyter-widgets/controls",
          "model_name": "HTMLModel",
          "model_module_version": "1.5.0",
          "state": {
            "_dom_classes": [],
            "_model_module": "@jupyter-widgets/controls",
            "_model_module_version": "1.5.0",
            "_model_name": "HTMLModel",
            "_view_count": null,
            "_view_module": "@jupyter-widgets/controls",
            "_view_module_version": "1.5.0",
            "_view_name": "HTMLView",
            "description": "",
            "description_tooltip": null,
            "layout": "IPY_MODEL_a1c1a19e414c4ee3bb55c09fda0bdf19",
            "placeholder": "​",
            "style": "IPY_MODEL_167572a8de80466cb44d2e0296e6f443",
            "value": " 65/65 [00:04&lt;00:00, 22.35it/s]"
          }
        },
        "e3abb11b7d784992a67a2225e7cb57f9": {
          "model_module": "@jupyter-widgets/base",
          "model_name": "LayoutModel",
          "model_module_version": "1.2.0",
          "state": {
            "_model_module": "@jupyter-widgets/base",
            "_model_module_version": "1.2.0",
            "_model_name": "LayoutModel",
            "_view_count": null,
            "_view_module": "@jupyter-widgets/base",
            "_view_module_version": "1.2.0",
            "_view_name": "LayoutView",
            "align_content": null,
            "align_items": null,
            "align_self": null,
            "border": null,
            "bottom": null,
            "display": null,
            "flex": null,
            "flex_flow": null,
            "grid_area": null,
            "grid_auto_columns": null,
            "grid_auto_flow": null,
            "grid_auto_rows": null,
            "grid_column": null,
            "grid_gap": null,
            "grid_row": null,
            "grid_template_areas": null,
            "grid_template_columns": null,
            "grid_template_rows": null,
            "height": null,
            "justify_content": null,
            "justify_items": null,
            "left": null,
            "margin": null,
            "max_height": null,
            "max_width": null,
            "min_height": null,
            "min_width": null,
            "object_fit": null,
            "object_position": null,
            "order": null,
            "overflow": null,
            "overflow_x": null,
            "overflow_y": null,
            "padding": null,
            "right": null,
            "top": null,
            "visibility": null,
            "width": null
          }
        },
        "1ba7ede0ffef425da5c3311fae034b55": {
          "model_module": "@jupyter-widgets/base",
          "model_name": "LayoutModel",
          "model_module_version": "1.2.0",
          "state": {
            "_model_module": "@jupyter-widgets/base",
            "_model_module_version": "1.2.0",
            "_model_name": "LayoutModel",
            "_view_count": null,
            "_view_module": "@jupyter-widgets/base",
            "_view_module_version": "1.2.0",
            "_view_name": "LayoutView",
            "align_content": null,
            "align_items": null,
            "align_self": null,
            "border": null,
            "bottom": null,
            "display": null,
            "flex": null,
            "flex_flow": null,
            "grid_area": null,
            "grid_auto_columns": null,
            "grid_auto_flow": null,
            "grid_auto_rows": null,
            "grid_column": null,
            "grid_gap": null,
            "grid_row": null,
            "grid_template_areas": null,
            "grid_template_columns": null,
            "grid_template_rows": null,
            "height": null,
            "justify_content": null,
            "justify_items": null,
            "left": null,
            "margin": null,
            "max_height": null,
            "max_width": null,
            "min_height": null,
            "min_width": null,
            "object_fit": null,
            "object_position": null,
            "order": null,
            "overflow": null,
            "overflow_x": null,
            "overflow_y": null,
            "padding": null,
            "right": null,
            "top": null,
            "visibility": null,
            "width": null
          }
        },
        "7837febe1dee4d7b8ca2cee3892ee18a": {
          "model_module": "@jupyter-widgets/controls",
          "model_name": "DescriptionStyleModel",
          "model_module_version": "1.5.0",
          "state": {
            "_model_module": "@jupyter-widgets/controls",
            "_model_module_version": "1.5.0",
            "_model_name": "DescriptionStyleModel",
            "_view_count": null,
            "_view_module": "@jupyter-widgets/base",
            "_view_module_version": "1.2.0",
            "_view_name": "StyleView",
            "description_width": ""
          }
        },
        "6be8b28cec2a421ea7ecc51a6d620304": {
          "model_module": "@jupyter-widgets/base",
          "model_name": "LayoutModel",
          "model_module_version": "1.2.0",
          "state": {
            "_model_module": "@jupyter-widgets/base",
            "_model_module_version": "1.2.0",
            "_model_name": "LayoutModel",
            "_view_count": null,
            "_view_module": "@jupyter-widgets/base",
            "_view_module_version": "1.2.0",
            "_view_name": "LayoutView",
            "align_content": null,
            "align_items": null,
            "align_self": null,
            "border": null,
            "bottom": null,
            "display": null,
            "flex": null,
            "flex_flow": null,
            "grid_area": null,
            "grid_auto_columns": null,
            "grid_auto_flow": null,
            "grid_auto_rows": null,
            "grid_column": null,
            "grid_gap": null,
            "grid_row": null,
            "grid_template_areas": null,
            "grid_template_columns": null,
            "grid_template_rows": null,
            "height": null,
            "justify_content": null,
            "justify_items": null,
            "left": null,
            "margin": null,
            "max_height": null,
            "max_width": null,
            "min_height": null,
            "min_width": null,
            "object_fit": null,
            "object_position": null,
            "order": null,
            "overflow": null,
            "overflow_x": null,
            "overflow_y": null,
            "padding": null,
            "right": null,
            "top": null,
            "visibility": null,
            "width": null
          }
        },
        "e582c6c5656d4881bea619ceb3a62f2f": {
          "model_module": "@jupyter-widgets/controls",
          "model_name": "ProgressStyleModel",
          "model_module_version": "1.5.0",
          "state": {
            "_model_module": "@jupyter-widgets/controls",
            "_model_module_version": "1.5.0",
            "_model_name": "ProgressStyleModel",
            "_view_count": null,
            "_view_module": "@jupyter-widgets/base",
            "_view_module_version": "1.2.0",
            "_view_name": "StyleView",
            "bar_color": null,
            "description_width": ""
          }
        },
        "a1c1a19e414c4ee3bb55c09fda0bdf19": {
          "model_module": "@jupyter-widgets/base",
          "model_name": "LayoutModel",
          "model_module_version": "1.2.0",
          "state": {
            "_model_module": "@jupyter-widgets/base",
            "_model_module_version": "1.2.0",
            "_model_name": "LayoutModel",
            "_view_count": null,
            "_view_module": "@jupyter-widgets/base",
            "_view_module_version": "1.2.0",
            "_view_name": "LayoutView",
            "align_content": null,
            "align_items": null,
            "align_self": null,
            "border": null,
            "bottom": null,
            "display": null,
            "flex": null,
            "flex_flow": null,
            "grid_area": null,
            "grid_auto_columns": null,
            "grid_auto_flow": null,
            "grid_auto_rows": null,
            "grid_column": null,
            "grid_gap": null,
            "grid_row": null,
            "grid_template_areas": null,
            "grid_template_columns": null,
            "grid_template_rows": null,
            "height": null,
            "justify_content": null,
            "justify_items": null,
            "left": null,
            "margin": null,
            "max_height": null,
            "max_width": null,
            "min_height": null,
            "min_width": null,
            "object_fit": null,
            "object_position": null,
            "order": null,
            "overflow": null,
            "overflow_x": null,
            "overflow_y": null,
            "padding": null,
            "right": null,
            "top": null,
            "visibility": null,
            "width": null
          }
        },
        "167572a8de80466cb44d2e0296e6f443": {
          "model_module": "@jupyter-widgets/controls",
          "model_name": "DescriptionStyleModel",
          "model_module_version": "1.5.0",
          "state": {
            "_model_module": "@jupyter-widgets/controls",
            "_model_module_version": "1.5.0",
            "_model_name": "DescriptionStyleModel",
            "_view_count": null,
            "_view_module": "@jupyter-widgets/base",
            "_view_module_version": "1.2.0",
            "_view_name": "StyleView",
            "description_width": ""
          }
        },
        "72b4bdf95df245e1b7ee9faaa3383ffb": {
          "model_module": "@jupyter-widgets/controls",
          "model_name": "HBoxModel",
          "model_module_version": "1.5.0",
          "state": {
            "_dom_classes": [],
            "_model_module": "@jupyter-widgets/controls",
            "_model_module_version": "1.5.0",
            "_model_name": "HBoxModel",
            "_view_count": null,
            "_view_module": "@jupyter-widgets/controls",
            "_view_module_version": "1.5.0",
            "_view_name": "HBoxView",
            "box_style": "",
            "children": [
              "IPY_MODEL_e12658b32bf44dcd8268257771d051f1",
              "IPY_MODEL_bd6485b2ae9b4790961821a9a8315847",
              "IPY_MODEL_13f1b5fd59ff46f6a656ef3927fb8aa3"
            ],
            "layout": "IPY_MODEL_e1b2158285404b59909cef58c8ef5e5e"
          }
        },
        "e12658b32bf44dcd8268257771d051f1": {
          "model_module": "@jupyter-widgets/controls",
          "model_name": "HTMLModel",
          "model_module_version": "1.5.0",
          "state": {
            "_dom_classes": [],
            "_model_module": "@jupyter-widgets/controls",
            "_model_module_version": "1.5.0",
            "_model_name": "HTMLModel",
            "_view_count": null,
            "_view_module": "@jupyter-widgets/controls",
            "_view_module_version": "1.5.0",
            "_view_name": "HTMLView",
            "description": "",
            "description_tooltip": null,
            "layout": "IPY_MODEL_188c410d5172473a9afafea521cdd6ee",
            "placeholder": "​",
            "style": "IPY_MODEL_d9b908fc5ee24f2cbffdf3c982852e31",
            "value": ""
          }
        },
        "bd6485b2ae9b4790961821a9a8315847": {
          "model_module": "@jupyter-widgets/controls",
          "model_name": "FloatProgressModel",
          "model_module_version": "1.5.0",
          "state": {
            "_dom_classes": [],
            "_model_module": "@jupyter-widgets/controls",
            "_model_module_version": "1.5.0",
            "_model_name": "FloatProgressModel",
            "_view_count": null,
            "_view_module": "@jupyter-widgets/controls",
            "_view_module_version": "1.5.0",
            "_view_name": "ProgressView",
            "bar_style": "success",
            "description": "",
            "description_tooltip": null,
            "layout": "IPY_MODEL_75e90f6ac027420fa8a37ec2de318bf4",
            "max": 8116577,
            "min": 0,
            "orientation": "horizontal",
            "style": "IPY_MODEL_f1d4b42389b94d20872db4f61a2309d7",
            "value": 8116577
          }
        },
        "13f1b5fd59ff46f6a656ef3927fb8aa3": {
          "model_module": "@jupyter-widgets/controls",
          "model_name": "HTMLModel",
          "model_module_version": "1.5.0",
          "state": {
            "_dom_classes": [],
            "_model_module": "@jupyter-widgets/controls",
            "_model_module_version": "1.5.0",
            "_model_name": "HTMLModel",
            "_view_count": null,
            "_view_module": "@jupyter-widgets/controls",
            "_view_module_version": "1.5.0",
            "_view_name": "HTMLView",
            "description": "",
            "description_tooltip": null,
            "layout": "IPY_MODEL_7d264288cbe84c8d8c08143cf3b08791",
            "placeholder": "​",
            "style": "IPY_MODEL_e413775bfd444bbeb3917a53deb3ddf9",
            "value": " 30.3M/? [00:01&lt;00:00, 29.4MB/s]"
          }
        },
        "e1b2158285404b59909cef58c8ef5e5e": {
          "model_module": "@jupyter-widgets/base",
          "model_name": "LayoutModel",
          "model_module_version": "1.2.0",
          "state": {
            "_model_module": "@jupyter-widgets/base",
            "_model_module_version": "1.2.0",
            "_model_name": "LayoutModel",
            "_view_count": null,
            "_view_module": "@jupyter-widgets/base",
            "_view_module_version": "1.2.0",
            "_view_name": "LayoutView",
            "align_content": null,
            "align_items": null,
            "align_self": null,
            "border": null,
            "bottom": null,
            "display": null,
            "flex": null,
            "flex_flow": null,
            "grid_area": null,
            "grid_auto_columns": null,
            "grid_auto_flow": null,
            "grid_auto_rows": null,
            "grid_column": null,
            "grid_gap": null,
            "grid_row": null,
            "grid_template_areas": null,
            "grid_template_columns": null,
            "grid_template_rows": null,
            "height": null,
            "justify_content": null,
            "justify_items": null,
            "left": null,
            "margin": null,
            "max_height": null,
            "max_width": null,
            "min_height": null,
            "min_width": null,
            "object_fit": null,
            "object_position": null,
            "order": null,
            "overflow": null,
            "overflow_x": null,
            "overflow_y": null,
            "padding": null,
            "right": null,
            "top": null,
            "visibility": null,
            "width": null
          }
        },
        "188c410d5172473a9afafea521cdd6ee": {
          "model_module": "@jupyter-widgets/base",
          "model_name": "LayoutModel",
          "model_module_version": "1.2.0",
          "state": {
            "_model_module": "@jupyter-widgets/base",
            "_model_module_version": "1.2.0",
            "_model_name": "LayoutModel",
            "_view_count": null,
            "_view_module": "@jupyter-widgets/base",
            "_view_module_version": "1.2.0",
            "_view_name": "LayoutView",
            "align_content": null,
            "align_items": null,
            "align_self": null,
            "border": null,
            "bottom": null,
            "display": null,
            "flex": null,
            "flex_flow": null,
            "grid_area": null,
            "grid_auto_columns": null,
            "grid_auto_flow": null,
            "grid_auto_rows": null,
            "grid_column": null,
            "grid_gap": null,
            "grid_row": null,
            "grid_template_areas": null,
            "grid_template_columns": null,
            "grid_template_rows": null,
            "height": null,
            "justify_content": null,
            "justify_items": null,
            "left": null,
            "margin": null,
            "max_height": null,
            "max_width": null,
            "min_height": null,
            "min_width": null,
            "object_fit": null,
            "object_position": null,
            "order": null,
            "overflow": null,
            "overflow_x": null,
            "overflow_y": null,
            "padding": null,
            "right": null,
            "top": null,
            "visibility": null,
            "width": null
          }
        },
        "d9b908fc5ee24f2cbffdf3c982852e31": {
          "model_module": "@jupyter-widgets/controls",
          "model_name": "DescriptionStyleModel",
          "model_module_version": "1.5.0",
          "state": {
            "_model_module": "@jupyter-widgets/controls",
            "_model_module_version": "1.5.0",
            "_model_name": "DescriptionStyleModel",
            "_view_count": null,
            "_view_module": "@jupyter-widgets/base",
            "_view_module_version": "1.2.0",
            "_view_name": "StyleView",
            "description_width": ""
          }
        },
        "75e90f6ac027420fa8a37ec2de318bf4": {
          "model_module": "@jupyter-widgets/base",
          "model_name": "LayoutModel",
          "model_module_version": "1.2.0",
          "state": {
            "_model_module": "@jupyter-widgets/base",
            "_model_module_version": "1.2.0",
            "_model_name": "LayoutModel",
            "_view_count": null,
            "_view_module": "@jupyter-widgets/base",
            "_view_module_version": "1.2.0",
            "_view_name": "LayoutView",
            "align_content": null,
            "align_items": null,
            "align_self": null,
            "border": null,
            "bottom": null,
            "display": null,
            "flex": null,
            "flex_flow": null,
            "grid_area": null,
            "grid_auto_columns": null,
            "grid_auto_flow": null,
            "grid_auto_rows": null,
            "grid_column": null,
            "grid_gap": null,
            "grid_row": null,
            "grid_template_areas": null,
            "grid_template_columns": null,
            "grid_template_rows": null,
            "height": null,
            "justify_content": null,
            "justify_items": null,
            "left": null,
            "margin": null,
            "max_height": null,
            "max_width": null,
            "min_height": null,
            "min_width": null,
            "object_fit": null,
            "object_position": null,
            "order": null,
            "overflow": null,
            "overflow_x": null,
            "overflow_y": null,
            "padding": null,
            "right": null,
            "top": null,
            "visibility": null,
            "width": null
          }
        },
        "f1d4b42389b94d20872db4f61a2309d7": {
          "model_module": "@jupyter-widgets/controls",
          "model_name": "ProgressStyleModel",
          "model_module_version": "1.5.0",
          "state": {
            "_model_module": "@jupyter-widgets/controls",
            "_model_module_version": "1.5.0",
            "_model_name": "ProgressStyleModel",
            "_view_count": null,
            "_view_module": "@jupyter-widgets/base",
            "_view_module_version": "1.2.0",
            "_view_name": "StyleView",
            "bar_color": null,
            "description_width": ""
          }
        },
        "7d264288cbe84c8d8c08143cf3b08791": {
          "model_module": "@jupyter-widgets/base",
          "model_name": "LayoutModel",
          "model_module_version": "1.2.0",
          "state": {
            "_model_module": "@jupyter-widgets/base",
            "_model_module_version": "1.2.0",
            "_model_name": "LayoutModel",
            "_view_count": null,
            "_view_module": "@jupyter-widgets/base",
            "_view_module_version": "1.2.0",
            "_view_name": "LayoutView",
            "align_content": null,
            "align_items": null,
            "align_self": null,
            "border": null,
            "bottom": null,
            "display": null,
            "flex": null,
            "flex_flow": null,
            "grid_area": null,
            "grid_auto_columns": null,
            "grid_auto_flow": null,
            "grid_auto_rows": null,
            "grid_column": null,
            "grid_gap": null,
            "grid_row": null,
            "grid_template_areas": null,
            "grid_template_columns": null,
            "grid_template_rows": null,
            "height": null,
            "justify_content": null,
            "justify_items": null,
            "left": null,
            "margin": null,
            "max_height": null,
            "max_width": null,
            "min_height": null,
            "min_width": null,
            "object_fit": null,
            "object_position": null,
            "order": null,
            "overflow": null,
            "overflow_x": null,
            "overflow_y": null,
            "padding": null,
            "right": null,
            "top": null,
            "visibility": null,
            "width": null
          }
        },
        "e413775bfd444bbeb3917a53deb3ddf9": {
          "model_module": "@jupyter-widgets/controls",
          "model_name": "DescriptionStyleModel",
          "model_module_version": "1.5.0",
          "state": {
            "_model_module": "@jupyter-widgets/controls",
            "_model_module_version": "1.5.0",
            "_model_name": "DescriptionStyleModel",
            "_view_count": null,
            "_view_module": "@jupyter-widgets/base",
            "_view_module_version": "1.2.0",
            "_view_name": "StyleView",
            "description_width": ""
          }
        },
        "6de2479577bd4b0abaf0c264bef6ef86": {
          "model_module": "@jupyter-widgets/controls",
          "model_name": "HBoxModel",
          "model_module_version": "1.5.0",
          "state": {
            "_dom_classes": [],
            "_model_module": "@jupyter-widgets/controls",
            "_model_module_version": "1.5.0",
            "_model_name": "HBoxModel",
            "_view_count": null,
            "_view_module": "@jupyter-widgets/controls",
            "_view_module_version": "1.5.0",
            "_view_name": "HBoxView",
            "box_style": "",
            "children": [
              "IPY_MODEL_de333a03802a4c24b38f9e23d2271a7e",
              "IPY_MODEL_1eace58ffb2b4bb48887442ea36d013d",
              "IPY_MODEL_0166276e907843aca4054a337f2b6532"
            ],
            "layout": "IPY_MODEL_a981160ee427424ea989a31f93a427b1"
          }
        },
        "de333a03802a4c24b38f9e23d2271a7e": {
          "model_module": "@jupyter-widgets/controls",
          "model_name": "HTMLModel",
          "model_module_version": "1.5.0",
          "state": {
            "_dom_classes": [],
            "_model_module": "@jupyter-widgets/controls",
            "_model_module_version": "1.5.0",
            "_model_name": "HTMLModel",
            "_view_count": null,
            "_view_module": "@jupyter-widgets/controls",
            "_view_module_version": "1.5.0",
            "_view_name": "HTMLView",
            "description": "",
            "description_tooltip": null,
            "layout": "IPY_MODEL_92801a0056824438bb12c8183859fa7b",
            "placeholder": "​",
            "style": "IPY_MODEL_53c141a3ffc345a9b01aa5a127138f13",
            "value": ""
          }
        },
        "1eace58ffb2b4bb48887442ea36d013d": {
          "model_module": "@jupyter-widgets/controls",
          "model_name": "FloatProgressModel",
          "model_module_version": "1.5.0",
          "state": {
            "_dom_classes": [],
            "_model_module": "@jupyter-widgets/controls",
            "_model_module_version": "1.5.0",
            "_model_name": "FloatProgressModel",
            "_view_count": null,
            "_view_module": "@jupyter-widgets/controls",
            "_view_module_version": "1.5.0",
            "_view_name": "ProgressView",
            "bar_style": "success",
            "description": "",
            "description_tooltip": null,
            "layout": "IPY_MODEL_c2e443d4a06f411bb811aa9040200f32",
            "max": 1054280,
            "min": 0,
            "orientation": "horizontal",
            "style": "IPY_MODEL_4c1cd335d89f4c32bcf5b3ee740b5f03",
            "value": 1054280
          }
        },
        "0166276e907843aca4054a337f2b6532": {
          "model_module": "@jupyter-widgets/controls",
          "model_name": "HTMLModel",
          "model_module_version": "1.5.0",
          "state": {
            "_dom_classes": [],
            "_model_module": "@jupyter-widgets/controls",
            "_model_module_version": "1.5.0",
            "_model_name": "HTMLModel",
            "_view_count": null,
            "_view_module": "@jupyter-widgets/controls",
            "_view_module_version": "1.5.0",
            "_view_name": "HTMLView",
            "description": "",
            "description_tooltip": null,
            "layout": "IPY_MODEL_70e08592e77642678f271455ace42be9",
            "placeholder": "​",
            "style": "IPY_MODEL_d03a3a74aab740d3b2a65deae37fa353",
            "value": " 4.85M/? [00:00&lt;00:00, 25.5MB/s]"
          }
        },
        "a981160ee427424ea989a31f93a427b1": {
          "model_module": "@jupyter-widgets/base",
          "model_name": "LayoutModel",
          "model_module_version": "1.2.0",
          "state": {
            "_model_module": "@jupyter-widgets/base",
            "_model_module_version": "1.2.0",
            "_model_name": "LayoutModel",
            "_view_count": null,
            "_view_module": "@jupyter-widgets/base",
            "_view_module_version": "1.2.0",
            "_view_name": "LayoutView",
            "align_content": null,
            "align_items": null,
            "align_self": null,
            "border": null,
            "bottom": null,
            "display": null,
            "flex": null,
            "flex_flow": null,
            "grid_area": null,
            "grid_auto_columns": null,
            "grid_auto_flow": null,
            "grid_auto_rows": null,
            "grid_column": null,
            "grid_gap": null,
            "grid_row": null,
            "grid_template_areas": null,
            "grid_template_columns": null,
            "grid_template_rows": null,
            "height": null,
            "justify_content": null,
            "justify_items": null,
            "left": null,
            "margin": null,
            "max_height": null,
            "max_width": null,
            "min_height": null,
            "min_width": null,
            "object_fit": null,
            "object_position": null,
            "order": null,
            "overflow": null,
            "overflow_x": null,
            "overflow_y": null,
            "padding": null,
            "right": null,
            "top": null,
            "visibility": null,
            "width": null
          }
        },
        "92801a0056824438bb12c8183859fa7b": {
          "model_module": "@jupyter-widgets/base",
          "model_name": "LayoutModel",
          "model_module_version": "1.2.0",
          "state": {
            "_model_module": "@jupyter-widgets/base",
            "_model_module_version": "1.2.0",
            "_model_name": "LayoutModel",
            "_view_count": null,
            "_view_module": "@jupyter-widgets/base",
            "_view_module_version": "1.2.0",
            "_view_name": "LayoutView",
            "align_content": null,
            "align_items": null,
            "align_self": null,
            "border": null,
            "bottom": null,
            "display": null,
            "flex": null,
            "flex_flow": null,
            "grid_area": null,
            "grid_auto_columns": null,
            "grid_auto_flow": null,
            "grid_auto_rows": null,
            "grid_column": null,
            "grid_gap": null,
            "grid_row": null,
            "grid_template_areas": null,
            "grid_template_columns": null,
            "grid_template_rows": null,
            "height": null,
            "justify_content": null,
            "justify_items": null,
            "left": null,
            "margin": null,
            "max_height": null,
            "max_width": null,
            "min_height": null,
            "min_width": null,
            "object_fit": null,
            "object_position": null,
            "order": null,
            "overflow": null,
            "overflow_x": null,
            "overflow_y": null,
            "padding": null,
            "right": null,
            "top": null,
            "visibility": null,
            "width": null
          }
        },
        "53c141a3ffc345a9b01aa5a127138f13": {
          "model_module": "@jupyter-widgets/controls",
          "model_name": "DescriptionStyleModel",
          "model_module_version": "1.5.0",
          "state": {
            "_model_module": "@jupyter-widgets/controls",
            "_model_module_version": "1.5.0",
            "_model_name": "DescriptionStyleModel",
            "_view_count": null,
            "_view_module": "@jupyter-widgets/base",
            "_view_module_version": "1.2.0",
            "_view_name": "StyleView",
            "description_width": ""
          }
        },
        "c2e443d4a06f411bb811aa9040200f32": {
          "model_module": "@jupyter-widgets/base",
          "model_name": "LayoutModel",
          "model_module_version": "1.2.0",
          "state": {
            "_model_module": "@jupyter-widgets/base",
            "_model_module_version": "1.2.0",
            "_model_name": "LayoutModel",
            "_view_count": null,
            "_view_module": "@jupyter-widgets/base",
            "_view_module_version": "1.2.0",
            "_view_name": "LayoutView",
            "align_content": null,
            "align_items": null,
            "align_self": null,
            "border": null,
            "bottom": null,
            "display": null,
            "flex": null,
            "flex_flow": null,
            "grid_area": null,
            "grid_auto_columns": null,
            "grid_auto_flow": null,
            "grid_auto_rows": null,
            "grid_column": null,
            "grid_gap": null,
            "grid_row": null,
            "grid_template_areas": null,
            "grid_template_columns": null,
            "grid_template_rows": null,
            "height": null,
            "justify_content": null,
            "justify_items": null,
            "left": null,
            "margin": null,
            "max_height": null,
            "max_width": null,
            "min_height": null,
            "min_width": null,
            "object_fit": null,
            "object_position": null,
            "order": null,
            "overflow": null,
            "overflow_x": null,
            "overflow_y": null,
            "padding": null,
            "right": null,
            "top": null,
            "visibility": null,
            "width": null
          }
        },
        "4c1cd335d89f4c32bcf5b3ee740b5f03": {
          "model_module": "@jupyter-widgets/controls",
          "model_name": "ProgressStyleModel",
          "model_module_version": "1.5.0",
          "state": {
            "_model_module": "@jupyter-widgets/controls",
            "_model_module_version": "1.5.0",
            "_model_name": "ProgressStyleModel",
            "_view_count": null,
            "_view_module": "@jupyter-widgets/base",
            "_view_module_version": "1.2.0",
            "_view_name": "StyleView",
            "bar_color": null,
            "description_width": ""
          }
        },
        "70e08592e77642678f271455ace42be9": {
          "model_module": "@jupyter-widgets/base",
          "model_name": "LayoutModel",
          "model_module_version": "1.2.0",
          "state": {
            "_model_module": "@jupyter-widgets/base",
            "_model_module_version": "1.2.0",
            "_model_name": "LayoutModel",
            "_view_count": null,
            "_view_module": "@jupyter-widgets/base",
            "_view_module_version": "1.2.0",
            "_view_name": "LayoutView",
            "align_content": null,
            "align_items": null,
            "align_self": null,
            "border": null,
            "bottom": null,
            "display": null,
            "flex": null,
            "flex_flow": null,
            "grid_area": null,
            "grid_auto_columns": null,
            "grid_auto_flow": null,
            "grid_auto_rows": null,
            "grid_column": null,
            "grid_gap": null,
            "grid_row": null,
            "grid_template_areas": null,
            "grid_template_columns": null,
            "grid_template_rows": null,
            "height": null,
            "justify_content": null,
            "justify_items": null,
            "left": null,
            "margin": null,
            "max_height": null,
            "max_width": null,
            "min_height": null,
            "min_width": null,
            "object_fit": null,
            "object_position": null,
            "order": null,
            "overflow": null,
            "overflow_x": null,
            "overflow_y": null,
            "padding": null,
            "right": null,
            "top": null,
            "visibility": null,
            "width": null
          }
        },
        "d03a3a74aab740d3b2a65deae37fa353": {
          "model_module": "@jupyter-widgets/controls",
          "model_name": "DescriptionStyleModel",
          "model_module_version": "1.5.0",
          "state": {
            "_model_module": "@jupyter-widgets/controls",
            "_model_module_version": "1.5.0",
            "_model_name": "DescriptionStyleModel",
            "_view_count": null,
            "_view_module": "@jupyter-widgets/base",
            "_view_module_version": "1.2.0",
            "_view_name": "StyleView",
            "description_width": ""
          }
        }
      }
    }
  },
  "cells": [
    {
      "cell_type": "markdown",
      "source": [
        "# 1. Environmental Setup"
      ],
      "metadata": {
        "id": "UgSZpKMDeLvC"
      }
    },
    {
      "cell_type": "code",
      "source": [
        "!pip install sentence-transformers"
      ],
      "metadata": {
        "id": "6xmfBg-SYyWT"
      },
      "execution_count": null,
      "outputs": []
    },
    {
      "cell_type": "code",
      "execution_count": null,
      "metadata": {
        "id": "1A5U708eXZ97"
      },
      "outputs": [],
      "source": [
        "\n",
        "\"\"\"\n",
        "This examples show how to train a Cross-Encoder for the SQuAD Dataset.\n",
        "\n",
        "The query and the passage are passed simoultanously to a Transformer network. The network then returns\n",
        "a score between 0 and 1 how relevant the passage is for a given query.\n",
        "\n",
        "The resulting Cross-Encoder can then be used for passage re-ranking: You retrieve for example 100 passages\n",
        "for a given query, for example with ElasticSearch, and pass the query+retrieved_passage to the CrossEncoder\n",
        "for scoring. You sort the results then according to the output of the CrossEncoder.\n",
        "\"\"\"\n",
        "from torch.utils.data import DataLoader\n",
        "from sentence_transformers import SentenceTransformer, LoggingHandler, util\n",
        "from sentence_transformers.cross_encoder import CrossEncoder\n",
        "from sentence_transformers import InputExample\n",
        "from pathlib import Path\n",
        "import torch\n",
        "import logging\n",
        "from datetime import datetime\n",
        "import gzip\n",
        "import pandas as pd\n",
        "import os\n",
        "import tarfile\n",
        "from tqdm import tqdm\n",
        "import json\n",
        "import shutil\n",
        "import csv\n",
        "\n",
        "#### Just some code to print debug information to stdout\n",
        "logging.basicConfig(format='%(asctime)s - %(message)s',\n",
        "                    datefmt='%Y-%m-%d %H:%M:%S',\n",
        "                    level=logging.INFO,\n",
        "                    handlers=[LoggingHandler()])\n",
        "#### /print debug information to stdout\n",
        "\n",
        "device = 'cuda' if torch.cuda.is_available() else 'cpu'"
      ]
    },
    {
      "cell_type": "code",
      "source": [
        "from google.colab import drive\n",
        "drive.mount('/gdrive', force_remount=True)\n",
        "\n",
        "root = '/gdrive/MyDrive/Project 2/retrieve-rerank'"
      ],
      "metadata": {
        "id": "6EsdarER8NsO",
        "colab": {
          "base_uri": "https://localhost:8080/"
        },
        "outputId": "18c0b372-4ef4-42bb-db3d-453010e5f112"
      },
      "execution_count": null,
      "outputs": [
        {
          "output_type": "stream",
          "name": "stdout",
          "text": [
            "Mounted at /gdrive\n"
          ]
        }
      ]
    },
    {
      "cell_type": "markdown",
      "source": [
        "We declare some global variables."
      ],
      "metadata": {
        "id": "CyFWhX0peYhh"
      }
    },
    {
      "cell_type": "code",
      "source": [
        "#First, we define the transformer model we want to fine-tune\n",
        "# model_name = 'distilroberta-base'\n",
        "model_name = 'cross-encoder/ms-marco-MiniLM-L-6-v2'\n",
        "\n",
        "train_batch_size = 32\n",
        "num_epochs = 1\n",
        "model_save_path = 'output/training_squad_cross-encoder-'+model_name.replace(\"/\", \"-\")+'-'+datetime.now().strftime(\"%Y-%m-%d_%H-%M-%S\")\n",
        "result_dir = Path(root) / 'results'\n",
        "data_dir = Path(root) / 'data'\n",
        "\n",
        "# Maximal number of training samples we want to use\n",
        "max_train_samples = 2e7\n",
        "\n",
        "#We set num_labels=1, which predicts a continous score between 0 and 1\n",
        "model = CrossEncoder(model_name, num_labels=1, max_length=512)\n",
        "\n",
        "### Now we read the SQuAD dataset\n",
        "data_folder = 'squad-data'\n",
        "os.makedirs(data_folder, exist_ok=True)"
      ],
      "metadata": {
        "id": "TV1ihf0dYrLo"
      },
      "execution_count": null,
      "outputs": []
    },
    {
      "cell_type": "markdown",
      "source": [
        "# 2. Loading dataset"
      ],
      "metadata": {
        "id": "K6bzvyUrn_gJ"
      }
    },
    {
      "cell_type": "code",
      "source": [
        "def load_dataset(path, url):\n",
        "  contexts = dict()\n",
        "  questions = dict()\n",
        "  golden_context_ids = dict()\n",
        "\n",
        "  if not os.path.exists(path):\n",
        "    logging.info(\"Download SQuAD dev-v1.1 ...\")\n",
        "    util.http_get(url, path)\n",
        "\n",
        "\n",
        "  with open(path, 'r', encoding='utf8') as json_file:\n",
        "    json_object = json.load(json_file)\n",
        "    context_id = 0\n",
        "    question_id = 0\n",
        "\n",
        "    for i in range (len(json_object['data'])):\n",
        "      data = json_object['data'][i]\n",
        "\n",
        "      for j in range(len(data['paragraphs'])):\n",
        "        paragraph = data['paragraphs'][j]\n",
        "        contexts[str(context_id)] = paragraph['context']\n",
        "\n",
        "        for k in range(len(paragraph['qas'])):\n",
        "          questions[str(question_id)] = paragraph['qas'][k]['question']\n",
        "          golden_context_ids[str(question_id)] = context_id\n",
        "\n",
        "          question_id += 1\n",
        "\n",
        "        context_id += 1\n",
        "\n",
        "  return contexts, questions, golden_context_ids\n",
        "\n",
        "train_contexts, train_questions, train_golden_context_ids = load_dataset(os.path.join(data_folder, 'train-set'), 'https://rajpurkar.github.io/SQuAD-explorer/dataset/train-v1.1.json')\n",
        "dev_contexts, dev_questions, dev_golden_context_ids = load_dataset(os.path.join(data_folder, 'dev-set'), 'https://rajpurkar.github.io/SQuAD-explorer/dataset/dev-v1.1.json')"
      ],
      "metadata": {
        "id": "HDXHCduaZ22I",
        "colab": {
          "base_uri": "https://localhost:8080/",
          "referenced_widgets": [
            "72b4bdf95df245e1b7ee9faaa3383ffb",
            "e12658b32bf44dcd8268257771d051f1",
            "bd6485b2ae9b4790961821a9a8315847",
            "13f1b5fd59ff46f6a656ef3927fb8aa3",
            "e1b2158285404b59909cef58c8ef5e5e",
            "188c410d5172473a9afafea521cdd6ee",
            "d9b908fc5ee24f2cbffdf3c982852e31",
            "75e90f6ac027420fa8a37ec2de318bf4",
            "f1d4b42389b94d20872db4f61a2309d7",
            "7d264288cbe84c8d8c08143cf3b08791",
            "e413775bfd444bbeb3917a53deb3ddf9",
            "6de2479577bd4b0abaf0c264bef6ef86",
            "de333a03802a4c24b38f9e23d2271a7e",
            "1eace58ffb2b4bb48887442ea36d013d",
            "0166276e907843aca4054a337f2b6532",
            "a981160ee427424ea989a31f93a427b1",
            "92801a0056824438bb12c8183859fa7b",
            "53c141a3ffc345a9b01aa5a127138f13",
            "c2e443d4a06f411bb811aa9040200f32",
            "4c1cd335d89f4c32bcf5b3ee740b5f03",
            "70e08592e77642678f271455ace42be9",
            "d03a3a74aab740d3b2a65deae37fa353"
          ]
        },
        "outputId": "3fc2cbc7-b8bc-44b6-b017-24a05a7611ea"
      },
      "execution_count": null,
      "outputs": [
        {
          "output_type": "display_data",
          "data": {
            "text/plain": [
              "  0%|          | 0.00/8.12M [00:00<?, ?B/s]"
            ],
            "application/vnd.jupyter.widget-view+json": {
              "version_major": 2,
              "version_minor": 0,
              "model_id": "72b4bdf95df245e1b7ee9faaa3383ffb"
            }
          },
          "metadata": {}
        },
        {
          "output_type": "display_data",
          "data": {
            "text/plain": [
              "  0%|          | 0.00/1.05M [00:00<?, ?B/s]"
            ],
            "application/vnd.jupyter.widget-view+json": {
              "version_major": 2,
              "version_minor": 0,
              "model_id": "6de2479577bd4b0abaf0c264bef6ef86"
            }
          },
          "metadata": {}
        }
      ]
    },
    {
      "cell_type": "markdown",
      "source": [
        "# 3. Training\n",
        "\n",
        "Choose either cell A or cell B below to run."
      ],
      "metadata": {
        "id": "NDm6mHDXf2-O"
      }
    },
    {
      "cell_type": "markdown",
      "source": [
        "### A. Creating training & dev data (Without injection of BM25 scores)"
      ],
      "metadata": {
        "id": "Cd9INyJ43x2Y"
      }
    },
    {
      "cell_type": "code",
      "source": [
        "# We train the network with as a binary label task\n",
        "# Given [query, passage] is the label 0 = irrelevant or 1 = relevant?\n",
        "# We use a positive-to-negative ratio: For 1 positive sample (label 1) we include 4 negative samples (label 0)\n",
        "pos_neg_ration = 4\n",
        "\n",
        "### Now we create our training & dev data\n",
        "train_samples = []\n",
        "dev_samples = {}\n",
        "\n",
        "# We use 200 random queries from the train set for evaluation during training\n",
        "# Each query has at least one relevant and up to 200 irrelevant (negative) passages\n",
        "num_dev_queries = 200\n",
        "num_max_dev_negatives = 200\n",
        "\n",
        "train_filepath = os.path.join(data_folder, 'train_qidpidtriples.csv')\n",
        "\n",
        "if not os.path.exists(train_filepath):\n",
        "    logging.info(\"Copy into \"+os.path.basename(train_filepath))\n",
        "    shutil.copy(f'{data_dir}/train_qidpidtriples.csv', train_filepath)\n",
        "\n",
        "train_df = pd.read_csv(train_filepath)\n",
        "\n",
        "# shuffle the dataframe\n",
        "train_eval_df = train_df.sample(frac=1).reset_index(drop=True)\n",
        "\n",
        "# fill dev set\n",
        "for i in range(train_eval_df.shape[0]):\n",
        "  qid, pos_id, neg_id = str(train_eval_df['qid'][i]), str(train_eval_df['pos_id'][i]), str(train_eval_df['neg_id'][i])\n",
        "\n",
        "  if qid not in dev_samples and len(dev_samples) < num_dev_queries:\n",
        "    dev_samples[qid] = {'query': train_questions[qid], 'positive': set(), 'negative': set()}\n",
        "\n",
        "  if qid in dev_samples:\n",
        "    dev_samples[qid]['positive'].add(train_contexts[pos_id])\n",
        "\n",
        "    if len(dev_samples[qid]['negative']) < num_max_dev_negatives:\n",
        "      dev_samples[qid]['negative'].add(train_contexts[neg_id])\n",
        "\n",
        "\n",
        "# fill train set\n",
        "count = 0\n",
        "\n",
        "for i in range(train_df.shape[0]):\n",
        "  qid, pos_id, neg_id = str(train_df['qid'][i]), str(train_df['pos_id'][i]), str(train_df['neg_id'][i])\n",
        "\n",
        "  # only use data\n",
        "  if qid in dev_samples:\n",
        "    continue\n",
        "\n",
        "  question = train_questions[qid]\n",
        "  if (count % (pos_neg_ration+1)) == 0:\n",
        "    passage = train_contexts[neg_id]\n",
        "    label = 0\n",
        "  else:\n",
        "    passage = train_contexts[pos_id]\n",
        "    label = 1\n",
        "\n",
        "  train_samples.append(InputExample(texts=[question, passage], label=label))\n",
        "  count += 1\n",
        "\n",
        "# import the evaluator to be used\n",
        "from sentence_transformers.cross_encoder.evaluation import CERerankingEvaluator"
      ],
      "metadata": {
        "id": "6QNjVHfu7c2C"
      },
      "execution_count": null,
      "outputs": []
    },
    {
      "cell_type": "code",
      "source": [
        "len(train_samples)"
      ],
      "metadata": {
        "colab": {
          "base_uri": "https://localhost:8080/"
        },
        "id": "e7C1FiI2-AHq",
        "outputId": "0ccc1c9d-95a6-41da-8560-5d479e35a589"
      },
      "execution_count": null,
      "outputs": [
        {
          "output_type": "execute_result",
          "data": {
            "text/plain": [
              "87399"
            ]
          },
          "metadata": {},
          "execution_count": 10
        }
      ]
    },
    {
      "cell_type": "markdown",
      "source": [
        "### B. Creating training & dev data (Injecting BM25 scores)"
      ],
      "metadata": {
        "id": "XGQTVsDzNudX"
      }
    },
    {
      "cell_type": "markdown",
      "source": [
        "Copy the training set from google drive to the temporary Colab drive and preprocess the data."
      ],
      "metadata": {
        "id": "mVxj7ZBFKwna"
      }
    },
    {
      "cell_type": "code",
      "source": [
        "train_filepath = os.path.join(data_folder, 'trainset_bm25score.csv')\n",
        "\n",
        "if not os.path.exists(train_filepath):\n",
        "    logging.info(\"Copy into \"+os.path.basename(train_filepath))\n",
        "    shutil.copy(f'{data_dir}/trainset_bm25score.csv', train_filepath)\n",
        "\n",
        "train_df = pd.read_csv(train_filepath)\n",
        "\n",
        "\n",
        "# normalize the bm25 scores\n",
        "global_min_bm25 = 0\n",
        "global_max_bm25 = 50\n",
        "\n",
        "train_df['pos_score'] = ((train_df['pos_score']-global_min_bm25)/(global_max_bm25 - global_min_bm25))*100\n",
        "train_df['neg_score'] = ((train_df['neg_score']-global_min_bm25)/(global_max_bm25 - global_min_bm25))*100\n",
        "\n",
        "# shuffle the dataframe\n",
        "train_eval_df = train_df.sample(frac=1).reset_index(drop=True)"
      ],
      "metadata": {
        "id": "bFTdvLVkOHC5"
      },
      "execution_count": null,
      "outputs": []
    },
    {
      "cell_type": "code",
      "source": [
        "train_df"
      ],
      "metadata": {
        "id": "3jL6efG9jhA6"
      },
      "execution_count": null,
      "outputs": []
    },
    {
      "cell_type": "code",
      "source": [
        "### Now we create our training & dev data\n",
        "train_samples = []\n",
        "dev_samples = {}\n",
        "\n",
        "# We use 200 random queries from the train set for evaluation during training\n",
        "# Each query has at least one relevant and up to 200 irrelevant (negative) passages\n",
        "num_dev_queries = 200\n",
        "num_max_dev_negatives = 200\n",
        "\n",
        "# Fill dev set\n",
        "for i in range(train_eval_df.shape[0]):\n",
        "  qid, pos_id, neg_id = str(train_eval_df['qid'][i]), str(train_eval_df['pos_id'][i]), str(train_eval_df['neg_id'][i])\n",
        "  pos_score, neg_score = int(train_eval_df['pos_score'][i]), int(train_eval_df['neg_score'][i])\n",
        "\n",
        "  if qid not in dev_samples and len(dev_samples) < num_dev_queries:\n",
        "    dev_samples[qid] = {'query': list(), 'positive': list(), 'negative': list()}\n",
        "\n",
        "  if qid in dev_samples:\n",
        "    dev_samples[qid]['positive'].append(train_contexts[pos_id])\n",
        "    dev_samples[qid]['query'].append(\"{} [SEP] {}\".format(pos_score, train_questions[qid]))\n",
        "\n",
        "    if len(dev_samples[qid]['negative']) < num_max_dev_negatives:\n",
        "      dev_samples[qid]['negative'].append(train_contexts[neg_id])\n",
        "      dev_samples[qid]['query'].append(\"{} [SEP] {}\".format(neg_score, train_questions[qid]))\n",
        "\n",
        "\n",
        "# Fill train set\n",
        "for i in range(train_df.shape[0]):\n",
        "  qid, pos_id, neg_id = str(train_df['qid'][i]), str(train_df['pos_id'][i]), str(train_df['neg_id'][i])\n",
        "  pos_score, neg_score = int(train_eval_df['pos_score'][i]), int(train_eval_df['neg_score'][i])\n",
        "\n",
        "  # only use data not included in dev_samples\n",
        "  if qid in dev_samples:\n",
        "    continue\n",
        "\n",
        "  question = train_questions[qid]\n",
        "  pos_context = train_contexts[pos_id]\n",
        "  neg_context = train_contexts[neg_id]\n",
        "\n",
        "  train_samples.append(InputExample(texts=[\"{} [SEP] {}\".format(pos_score, question), pos_context], label=1))\n",
        "  train_samples.append(InputExample(texts=[\"{} [SEP] {}\".format(neg_score, question), neg_context], label=0))\n",
        "\n",
        "# download CERerankingEvaluator_bm25cat code which is a modification on CERerankingEvaluator.py class from SBERT\n",
        "util.http_get('https://github.com/arian-askari/ms-marco-MiniLM-L-12-v3/raw/main/train/CERerankingEvaluator_bm25cat.py', os.path.join('./', 'CERerankingEvaluator_bm25cat.py'))\n",
        "from CERerankingEvaluator_bm25cat import CERerankingEvaluator"
      ],
      "metadata": {
        "id": "apsbjJiANpZU",
        "colab": {
          "base_uri": "https://localhost:8080/",
          "height": 49,
          "referenced_widgets": [
            "862e735d83b24343a1cc755e013e6723",
            "8fb3482bae774cc6ad0c086546774e32",
            "2909bc5ab5b44536918248fe0e4cfa6f",
            "b7353ab937d74e59b7ef2d2501ba8b45",
            "58ad965bc16a4dfc8eb8b2f1026a3292",
            "96d80bede6b145059d883dfb6daee981",
            "0a9731b2ba26406384cbfcdbff5a2f58",
            "44793c27503543f0b6454ba41f2b5603",
            "ee5e48fdfb3d48369c92bb1c3c2b322a",
            "53f2759d052f46caa4e776d62b598f5d",
            "e52baf5cc10a435b8eb6627177a2d7cf"
          ]
        },
        "outputId": "03b331f6-69dc-4a46-f792-73f339fe0af2"
      },
      "execution_count": null,
      "outputs": [
        {
          "output_type": "display_data",
          "data": {
            "text/plain": [
              "  0%|          | 0.00/1.36k [00:00<?, ?B/s]"
            ],
            "application/vnd.jupyter.widget-view+json": {
              "version_major": 2,
              "version_minor": 0,
              "model_id": "862e735d83b24343a1cc755e013e6723"
            }
          },
          "metadata": {}
        }
      ]
    },
    {
      "cell_type": "markdown",
      "source": [
        "### Training"
      ],
      "metadata": {
        "id": "E0cdtWQZZcV4"
      }
    },
    {
      "cell_type": "markdown",
      "source": [
        "Train a model and save it in the Google Drive."
      ],
      "metadata": {
        "id": "mUmOfP3jc4i-"
      }
    },
    {
      "cell_type": "code",
      "source": [
        "# We create a DataLoader to load our train samples\n",
        "train_dataloader = DataLoader(train_samples, shuffle=True, batch_size=train_batch_size)\n",
        "\n",
        "# We add an evaluator, which evaluates the performance during training\n",
        "# It performs a classification task and measures scores like F1 (finding relevant passages) and Average Precision\n",
        "evaluator = CERerankingEvaluator(dev_samples, name='train-eval')\n",
        "\n",
        "# Configure the training\n",
        "warmup_steps = 5000\n",
        "logging.info(\"Warmup-steps: {}\".format(warmup_steps))\n",
        "\n",
        "\n",
        "# Train the model\n",
        "model.fit(train_dataloader=train_dataloader,\n",
        "          evaluator=evaluator,\n",
        "          epochs=num_epochs,\n",
        "          evaluation_steps=500,\n",
        "          warmup_steps=warmup_steps,\n",
        "          output_path=model_save_path,\n",
        "          use_amp=True)\n",
        "\n",
        "# Save latest model\n",
        "torch.save(model, model_save_path+'-latest')\n",
        "\n",
        "# Copy the model into the parmenent drive\n",
        "num_trial=0\n",
        "model_dir = result_dir / f'cross-encoder-noinjection-v_{num_trial}'\n",
        "\n",
        "while model_dir.is_file():\n",
        "    num_trial = int(model_dir.name.replace('cross-encoder-noinjection-v_',''))\n",
        "    model_dir = result_dir / f'cross-encoder-noinjection-v_{num_trial+1}'\n",
        "\n",
        "shutil.copy(model_save_path+'-latest', model_dir)"
      ],
      "metadata": {
        "id": "mB-yeUHcmwqh",
        "colab": {
          "base_uri": "https://localhost:8080/",
          "height": 99,
          "referenced_widgets": [
            "297bcbaa49b04ec2a3951ed450c398b8",
            "fc77445a55f5420d9d4b75dae074ef1a",
            "82e45c4a5157474b85afda5627559025",
            "0085f13e5c6249558cd6382c101f5ce7",
            "00388f383547491fa41b8d8cf20da26b",
            "13fc3bee39284c4e89c5b1d2445d850e",
            "d8cfa2012b8446fbac2ee88092186a3e",
            "ee84fa5acd2542b38b6bde738f0da364",
            "07412635c6b04de8b3ba46de2f9a6f60",
            "c5ef68c88fe9427a85461cf214adabba",
            "19812c082aaf461cb4222887be5dfa0e",
            "beb844f9852c43598a8554cd222d16c6",
            "71637294b67d4effaa56ef6e9dd64c1b",
            "eccdcba038314af1a5e1fd239b370672",
            "c290576fa92f40c8974e5600b84b9c47",
            "7a76a2bb41334556b41198d0554d5409",
            "4d4ed80376884e05ab880527ffd48bc3",
            "30c1682495244857a2b9b71cb9e85829",
            "4c67fb93fcc844218ea0f01c1b0d830a",
            "066f284b6c1f4a90af6f1a1036ea68b4",
            "a92e8bd3547e45b1bd2427303c3122dc",
            "2578ce1a7e7641f2a1162d139f173c48"
          ]
        },
        "outputId": "b3322bb0-e8b9-40f1-9c89-40e6505dcffb"
      },
      "execution_count": null,
      "outputs": [
        {
          "output_type": "display_data",
          "data": {
            "text/plain": [
              "Epoch:   0%|          | 0/1 [00:00<?, ?it/s]"
            ],
            "application/vnd.jupyter.widget-view+json": {
              "version_major": 2,
              "version_minor": 0,
              "model_id": "297bcbaa49b04ec2a3951ed450c398b8"
            }
          },
          "metadata": {}
        },
        {
          "output_type": "display_data",
          "data": {
            "text/plain": [
              "Iteration:   0%|          | 0/2732 [00:00<?, ?it/s]"
            ],
            "application/vnd.jupyter.widget-view+json": {
              "version_major": 2,
              "version_minor": 0,
              "model_id": "beb844f9852c43598a8554cd222d16c6"
            }
          },
          "metadata": {}
        },
        {
          "output_type": "execute_result",
          "data": {
            "text/plain": [
              "PosixPath('/gdrive/MyDrive/Project 2/retrieve-rerank/results/cross-encoder-noinjection-v_4')"
            ]
          },
          "metadata": {},
          "execution_count": 15
        }
      ]
    },
    {
      "cell_type": "markdown",
      "source": [
        "# 4. Testing"
      ],
      "metadata": {
        "id": "_71CAmySSPt1"
      }
    },
    {
      "cell_type": "markdown",
      "source": [
        "Define bi-encoder and cross-encoder, and encode all the contexts from the development with the bi-encoder."
      ],
      "metadata": {
        "id": "1jr30zrSgvNw"
      }
    },
    {
      "cell_type": "code",
      "source": [
        "bi_encoder = SentenceTransformer('multi-qa-MiniLM-L6-cos-v1')\n",
        "bi_encoder.max_seq_length = 256     #Truncate long passages to 256 tokens\n",
        "num_doc_retrieve = 32\n",
        "\n",
        "cross_encoder = model\n",
        "\n",
        "dev_context_embeds = bi_encoder.encode(list(dev_contexts.values()), convert_to_tensor=True, show_progress_bar=True)"
      ],
      "metadata": {
        "id": "5DD9n7cobFRL",
        "colab": {
          "base_uri": "https://localhost:8080/",
          "height": 49,
          "referenced_widgets": [
            "c33f4be3669143e494ce38d12a2405ce",
            "f7613da85ab544228fdf3eecadc26146",
            "2c624a77812a4cca9ba1b83ab4d4ff6f",
            "bbf4a3e1f94b4c469453fa690095b09d",
            "e3abb11b7d784992a67a2225e7cb57f9",
            "1ba7ede0ffef425da5c3311fae034b55",
            "7837febe1dee4d7b8ca2cee3892ee18a",
            "6be8b28cec2a421ea7ecc51a6d620304",
            "e582c6c5656d4881bea619ceb3a62f2f",
            "a1c1a19e414c4ee3bb55c09fda0bdf19",
            "167572a8de80466cb44d2e0296e6f443"
          ]
        },
        "outputId": "8900844b-e3cd-4575-ac26-94a3a876fcd5"
      },
      "execution_count": null,
      "outputs": [
        {
          "output_type": "display_data",
          "data": {
            "text/plain": [
              "Batches:   0%|          | 0/65 [00:00<?, ?it/s]"
            ],
            "application/vnd.jupyter.widget-view+json": {
              "version_major": 2,
              "version_minor": 0,
              "model_id": "c33f4be3669143e494ce38d12a2405ce"
            }
          },
          "metadata": {}
        }
      ]
    },
    {
      "cell_type": "code",
      "source": [
        "def search(query, k):\n",
        "  \"\"\"\n",
        "    Inputs: query, k\n",
        "    Outputs: IDs of k relevant documents\n",
        "\n",
        "    Retrieve a set of documents related to the given query with the bi-encoder and rerank them with the cross-encoder,\n",
        "    producing the IDs of k relevant documents\n",
        "  \"\"\"\n",
        "\n",
        "  ### Retrieve ###\n",
        "  # Encode the query using the bi-encoder and find potentially relevant passages\n",
        "  question_embed = bi_encoder.encode(query, convert_to_tensor=True).cuda()\n",
        "  hits = util.semantic_search(question_embed, dev_context_embeds, top_k=num_doc_retrieve)\n",
        "  hits = hits[0] # Get the hits for the first query\n",
        "\n",
        "  ### Re-Ranking ###\n",
        "  # Score all retrieved passages with the cross_encoder\n",
        "  cross_input = [[query, dev_contexts[str(hit['corpus_id'])]] for hit in hits]\n",
        "  cross_scores = cross_encoder.predict(cross_input)\n",
        "\n",
        "  # Sort results by the cross-encoder scores\n",
        "  for i in range(len(cross_scores)):\n",
        "    hits[i]['cross-score'] = cross_scores[i]\n",
        "\n",
        "  hits = sorted(hits, key=lambda x: x['cross-score'], reverse=True)\n",
        "  top_k_context_id = [hit['corpus_id'] for hit in hits[0:k]]\n",
        "\n",
        "  return top_k_context_id"
      ],
      "metadata": {
        "id": "ZLgDc7HQS4-_"
      },
      "execution_count": null,
      "outputs": []
    },
    {
      "cell_type": "markdown",
      "source": [
        "Find top k accuracies for both k=5 and k=20."
      ],
      "metadata": {
        "id": "6RNV8tKvNs5o"
      }
    },
    {
      "cell_type": "code",
      "source": [
        "def find_topk_acc(top_k):\n",
        "  correct = 0\n",
        "  count = 0\n",
        "\n",
        "  for id in tqdm(dev_questions.keys(), mininterval = 3, desc =\"Evaluating...\"):\n",
        "    question = dev_questions[id]\n",
        "    golden_context_id = dev_golden_context_ids[id]\n",
        "    top_k_context_ids = search(question, top_k)\n",
        "\n",
        "    if golden_context_id in top_k_context_ids:\n",
        "      correct += 1\n",
        "\n",
        "    # To limit the number of iterations\n",
        "    # count += 1\n",
        "    # if count == 100:\n",
        "    #   break\n",
        "\n",
        "  topk_acc = (correct/len(dev_questions)) * 100\n",
        "\n",
        "  print(f\"Successful retrievals: {correct}/{len(dev_questions.keys())}\")\n",
        "\n",
        "  return topk_acc\n",
        "\n",
        "print(f'Top-k retrieval accuracy with k=5: {find_topk_acc(5)}')\n",
        "print(f'Top-k retrieval accuracy with k=20: {find_topk_acc(20)}')"
      ],
      "metadata": {
        "id": "l94cGbftN30R",
        "colab": {
          "base_uri": "https://localhost:8080/"
        },
        "outputId": "9008eefc-eded-4d86-a5ad-daaeb85c33c9"
      },
      "execution_count": null,
      "outputs": [
        {
          "output_type": "stream",
          "name": "stderr",
          "text": [
            "Evaluating...: 100%|██████████| 10570/10570 [29:02<00:00,  6.07it/s]\n"
          ]
        },
        {
          "output_type": "stream",
          "name": "stdout",
          "text": [
            "Successful retrievals: 10025/10570\n",
            "Top-k retrieval accuracy with k=5: 94.84389782403028\n"
          ]
        },
        {
          "output_type": "stream",
          "name": "stderr",
          "text": [
            "Evaluating...: 100%|██████████| 10570/10570 [28:55<00:00,  6.09it/s]"
          ]
        },
        {
          "output_type": "stream",
          "name": "stdout",
          "text": [
            "Successful retrievals: 10134/10570\n",
            "Top-k retrieval accuracy with k=20: 95.87511825922422\n"
          ]
        },
        {
          "output_type": "stream",
          "name": "stderr",
          "text": [
            "\n"
          ]
        }
      ]
    },
    {
      "cell_type": "markdown",
      "source": [
        "[Optional] Run the following code to see how well our retrieve-rerank method does given a query and k value."
      ],
      "metadata": {
        "id": "l66s6o-Nb5Xp"
      }
    },
    {
      "cell_type": "code",
      "source": [
        "question_id = '766'\n",
        "top_k = 5\n",
        "\n",
        "question = dev_questions[question_id]\n",
        "# golden_context_id = dev_contexts[555]\n",
        "top_k_context_id = search(question, top_k)\n",
        "\n",
        "\n",
        "print(f\"Query: {question}\")\n",
        "# print(f\"Golden context id: {golden_context_id}\")\n",
        "print(f\"Top-k context id: {top_k_context_id}\")\n",
        "print(f\"Top-k context:\")\n",
        "\n",
        "for id, context_id in enumerate(top_k_context_id):\n",
        "  print(f'{id}. {dev_contexts[str(context_id)]}')"
      ],
      "metadata": {
        "colab": {
          "base_uri": "https://localhost:8080/"
        },
        "id": "ePg6DiTRS78W",
        "outputId": "3d70ab14-05ce-4b9f-ef6a-baa63067f9f1"
      },
      "execution_count": null,
      "outputs": [
        {
          "output_type": "stream",
          "name": "stdout",
          "text": [
            "Query: On what yard line did Carolina begin with 4:51 left in the game?\n",
            "Top-k context id: [51, 49, 47, 48, 46]\n",
            "Top-k context:\n",
            "0. With 4:51 left in regulation, Carolina got the ball on their own 24-yard line with a chance to mount a game-winning drive, and soon faced 3rd-and-9. On the next play, Miller stripped the ball away from Newton, and after several players dove for it, it took a long bounce backwards and was recovered by Ward, who returned it five yards to the Panthers 4-yard line. Although several players dove into the pile to attempt to recover it, Newton did not and his lack of aggression later earned him heavy criticism. Meanwhile, Denver's offense was kept out of the end zone for three plays, but a holding penalty on cornerback Josh Norman gave the Broncos a new set of downs. Then Anderson scored on a 2-yard touchdown run and Manning completed a pass to Bennie Fowler for a 2-point conversion, giving Denver a 24–10 lead with 3:08 left and essentially putting the game away. Carolina had two more drives, but failed to get a first down on each one.\n",
            "1. The Panthers seemed primed to score on their opening drive of the second half when Newton completed a 45-yard pass to Ted Ginn Jr. on the Denver 35-yard line on their second offensive play. But the Broncos defense halted the drive on the 26-yard line, and it ended with no points when Graham Gano hit the uprights on a 44-yard field goal attempt. After the miss, Manning completed a pair of passes to Emmanuel Sanders for gains of 25 and 22 yards, setting up McManus' 33-yard field goal that gave the Broncos a 16–7 lead. Carolina got off to another strong start after the kickoff, with Newton completing a 42-yard pass to Corey Brown. But once again they came up empty, this time as a result of a Newton pass that bounced off the hands of Ginn and was intercepted by safety T. J. Ward. Ward fumbled the ball during the return, but Trevathan recovered it to enable Denver to keep possession.\n",
            "2. After a punt from both teams, Carolina got on track with a 9-play, 73-yard scoring drive. Newton completed 4 of 4 passes for 51 yards and rushed twice for 25 yards, while Jonathan Stewart finished the drive with a 1-yard touchdown run, cutting the score to 10–7 with 11:28 left in the second quarter. Later on, Broncos receiver Jordan Norwood received Brad Nortman's short 28-yard punt surrounded by Panthers players, but none of them attempted to make a tackle, apparently thinking Norwood had called a fair catch. Norwood had not done so, and with no resistance around him, he took off for a Super Bowl record 61-yard return before Mario Addison dragged him down on the Panthers 14-yard line. Despite Denver's excellent field position, they could not get the ball into the end zone, so McManus kicked a 33-yard field goal that increased their lead to 13–7.\n",
            "3. On Carolina's next possession fullback Mike Tolbert lost a fumble while being tackled by safety Darian Stewart, which linebacker Danny Trevathan recovered on the Broncos 40-yard line. However, the Panthers soon took the ball back when defensive end Kony Ealy tipped a Manning pass to himself and then intercepted it, returning the ball 19 yards to the Panthers 39-yard line with 1:55 left on the clock. The Panthers could not gain any yards with their possession and had to punt. After a Denver punt, Carolina drove to the Broncos 45-yard line. But with 11 seconds left, Newton was sacked by DeMarcus Ware as time expired in the half.\n",
            "4. After each team punted, Panthers quarterback Cam Newton appeared to complete a 24-yard pass Jerricho Cotchery, but the call was ruled an incompletion and upheld after a replay challenge. CBS analyst and retired referee Mike Carey stated he disagreed with the call and felt the review clearly showed the pass was complete. A few plays later, on 3rd-and-10 from the 15-yard line, linebacker Von Miller knocked the ball out of Newton's hands while sacking him, and Malik Jackson recovered it in the end zone for a Broncos touchdown, giving the team a 10–0 lead. This was the first fumble return touchdown in a Super Bowl since Super Bowl XXVIII at the end of the 1993 season.\n"
          ]
        }
      ]
    }
  ]
}